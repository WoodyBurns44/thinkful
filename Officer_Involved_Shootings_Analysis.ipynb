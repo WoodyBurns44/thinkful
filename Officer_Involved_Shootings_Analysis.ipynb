{
 "cells": [
  {
   "cell_type": "code",
   "execution_count": 1,
   "metadata": {},
   "outputs": [
    {
     "data": {
      "application/javascript": [
       "\n",
       "            setTimeout(function() {\n",
       "                var nbb_cell_id = 1;\n",
       "                var nbb_unformatted_code = \"%reload_ext nb_black\";\n",
       "                var nbb_formatted_code = \"%reload_ext nb_black\";\n",
       "                var nbb_cells = Jupyter.notebook.get_cells();\n",
       "                for (var i = 0; i < nbb_cells.length; ++i) {\n",
       "                    if (nbb_cells[i].input_prompt_number == nbb_cell_id) {\n",
       "                        if (nbb_cells[i].get_text() == nbb_unformatted_code) {\n",
       "                             nbb_cells[i].set_text(nbb_formatted_code);\n",
       "                        }\n",
       "                        break;\n",
       "                    }\n",
       "                }\n",
       "            }, 500);\n",
       "            "
      ],
      "text/plain": [
       "<IPython.core.display.Javascript object>"
      ]
     },
     "metadata": {},
     "output_type": "display_data"
    }
   ],
   "source": [
    "%reload_ext nb_black"
   ]
  },
  {
   "cell_type": "markdown",
   "metadata": {
    "heading_collapsed": true
   },
   "source": [
    "# Proposal "
   ]
  },
  {
   "cell_type": "markdown",
   "metadata": {
    "hidden": true
   },
   "source": [
    "    I will be analyzing data provided by Vice News about Police Involved shootings across the U.S. The source of the data and raw data can be accessed at this site: https://news.vice.com/en_us/article/a3jjpa/nonfatal-police-shootings-data. Vice collected the data, which is information about shootings involving police, both fatal and non-fatal, from the 50 largest Police Precincts in the U.S. I will attempt to build a model(s) that accurately categorize whether a shooting is fatal or non. Of the most interest to me is the contributing factors, because I am confident that by looking at the coefficients I can get an accurate picture of how the situations differ between Fatal and Non-Fatal instances of police discharging their weapons. With this information, I hope to be able to make recommendations to police departments about actions they can take to minimize the chances of killing their suspects. \n",
    "    \n",
    "    I understand that the Police do their best to protect people, and themselves, from dangerous criminals and that they deal with dangerous situations on a daily basis and are constantly trying to balance apprehending a criminal and making sure that they don't get hurt themselves in the process. With this data I hope to be able to provide valuable information about how Police officers can approach these situations to minimize the chances of anyone dying. \n",
    "    \n",
    "If we can predict why fatalities happen, maybe we can help reduce the likelihood of them occurring. "
   ]
  },
  {
   "cell_type": "markdown",
   "metadata": {},
   "source": [
    "# Imports"
   ]
  },
  {
   "cell_type": "code",
   "execution_count": 2,
   "metadata": {},
   "outputs": [
    {
     "data": {
      "application/javascript": [
       "\n",
       "            setTimeout(function() {\n",
       "                var nbb_cell_id = 2;\n",
       "                var nbb_unformatted_code = \"import pandas as pd\\nimport seaborn as sns\\nfrom __future__ import print_function, division\\nimport numpy as np\\nimport matplotlib as mpl\\nimport matplotlib.pyplot as plt\\n\\nimport warnings\\nimport statsmodels.api as sm\\nfrom statsmodels.stats.outliers_influence import variance_inflation_factor\\n\\nfrom sklearn.compose import ColumnTransformer\\nfrom category_encoders import LeaveOneOutEncoder\\nfrom sklearn.model_selection import train_test_split, GridSearchCV, cross_val_score\\nfrom sklearn.ensemble import RandomForestClassifier, ExtraTreesClassifier\\nfrom sklearn.preprocessing import OneHotEncoder, StandardScaler\\nfrom sklearn.svm import SVC\\nfrom sklearn.pipeline import Pipeline\\nfrom sklearn.linear_model import LogisticRegression\\nfrom sklearn.metrics import (\\n    plot_confusion_matrix,\\n    plot_roc_curve,\\n    plot_precision_recall_curve,\\n    classification_report,\\n    confusion_matrix,\\n    precision_score,\\n    recall_score,\\n)\\nfrom sklearn.calibration import calibration_curve\\n\\nfrom sklearn.feature_selection import SelectKBest, f_classif\\n\\nfrom functions_pkg import print_vif, predictions_df\\n\\nfrom xgboost import XGBClassifier\\n\\nfrom mlxtend.plotting import plot_decision_regions\\n\\n\\n%matplotlib inline\";\n",
       "                var nbb_formatted_code = \"import pandas as pd\\nimport seaborn as sns\\nfrom __future__ import print_function, division\\nimport numpy as np\\nimport matplotlib as mpl\\nimport matplotlib.pyplot as plt\\n\\nimport warnings\\nimport statsmodels.api as sm\\nfrom statsmodels.stats.outliers_influence import variance_inflation_factor\\n\\nfrom sklearn.compose import ColumnTransformer\\nfrom category_encoders import LeaveOneOutEncoder\\nfrom sklearn.model_selection import train_test_split, GridSearchCV, cross_val_score\\nfrom sklearn.ensemble import RandomForestClassifier, ExtraTreesClassifier\\nfrom sklearn.preprocessing import OneHotEncoder, StandardScaler\\nfrom sklearn.svm import SVC\\nfrom sklearn.pipeline import Pipeline\\nfrom sklearn.linear_model import LogisticRegression\\nfrom sklearn.metrics import (\\n    plot_confusion_matrix,\\n    plot_roc_curve,\\n    plot_precision_recall_curve,\\n    classification_report,\\n    confusion_matrix,\\n    precision_score,\\n    recall_score,\\n)\\nfrom sklearn.calibration import calibration_curve\\n\\nfrom sklearn.feature_selection import SelectKBest, f_classif\\n\\nfrom functions_pkg import print_vif, predictions_df\\n\\nfrom xgboost import XGBClassifier\\n\\nfrom mlxtend.plotting import plot_decision_regions\\n\\n\\n%matplotlib inline\";\n",
       "                var nbb_cells = Jupyter.notebook.get_cells();\n",
       "                for (var i = 0; i < nbb_cells.length; ++i) {\n",
       "                    if (nbb_cells[i].input_prompt_number == nbb_cell_id) {\n",
       "                        if (nbb_cells[i].get_text() == nbb_unformatted_code) {\n",
       "                             nbb_cells[i].set_text(nbb_formatted_code);\n",
       "                        }\n",
       "                        break;\n",
       "                    }\n",
       "                }\n",
       "            }, 500);\n",
       "            "
      ],
      "text/plain": [
       "<IPython.core.display.Javascript object>"
      ]
     },
     "metadata": {},
     "output_type": "display_data"
    }
   ],
   "source": [
    "import pandas as pd\n",
    "import seaborn as sns\n",
    "from __future__ import print_function, division\n",
    "import numpy as np\n",
    "import matplotlib as mpl\n",
    "import matplotlib.pyplot as plt\n",
    "\n",
    "import warnings\n",
    "import statsmodels.api as sm\n",
    "from statsmodels.stats.outliers_influence import variance_inflation_factor\n",
    "\n",
    "from sklearn.compose import ColumnTransformer\n",
    "from category_encoders import LeaveOneOutEncoder\n",
    "from sklearn.model_selection import train_test_split, GridSearchCV, cross_val_score\n",
    "from sklearn.ensemble import RandomForestClassifier, ExtraTreesClassifier\n",
    "from sklearn.preprocessing import OneHotEncoder, StandardScaler\n",
    "from sklearn.svm import SVC\n",
    "from sklearn.pipeline import Pipeline\n",
    "from sklearn.linear_model import LogisticRegression\n",
    "from sklearn.metrics import (\n",
    "    plot_confusion_matrix,\n",
    "    plot_roc_curve,\n",
    "    plot_precision_recall_curve,\n",
    "    classification_report,\n",
    "    confusion_matrix,\n",
    "    precision_score,\n",
    "    recall_score,\n",
    ")\n",
    "from sklearn.calibration import calibration_curve\n",
    "\n",
    "from sklearn.feature_selection import SelectKBest, f_classif\n",
    "\n",
    "from functions_pkg import print_vif, predictions_df\n",
    "\n",
    "from xgboost import XGBClassifier\n",
    "\n",
    "from mlxtend.plotting import plot_decision_regions\n",
    "\n",
    "\n",
    "%matplotlib inline"
   ]
  },
  {
   "cell_type": "code",
   "execution_count": 3,
   "metadata": {},
   "outputs": [
    {
     "data": {
      "application/javascript": [
       "\n",
       "            setTimeout(function() {\n",
       "                var nbb_cell_id = 3;\n",
       "                var nbb_unformatted_code = \"def print_vif(x):\\n    \\\"\\\"\\\"Utility for checking multicollinearity assumption\\n\\n    :param x: input features to check using VIF. This is assumed to be a pandas.DataFrame\\n    :return: nothing is returned the VIFs are printed as a pandas series\\n    \\\"\\\"\\\"\\n    # Silence numpy FutureWarning about .ptp\\n    with warnings.catch_warnings():\\n        warnings.simplefilter(\\\"ignore\\\")\\n        x = sm.add_constant(x)\\n\\n    vifs = []\\n    for i in range(x.shape[1]):\\n        vif = variance_inflation_factor(x.values, i)\\n        vifs.append(vif)\\n\\n    print(\\\"VIF results\\\\n-------------------------------\\\")\\n    print(pd.Series(vifs, index=x.columns))\\n    print(\\\"-------------------------------\\\\n\\\")\";\n",
       "                var nbb_formatted_code = \"def print_vif(x):\\n    \\\"\\\"\\\"Utility for checking multicollinearity assumption\\n\\n    :param x: input features to check using VIF. This is assumed to be a pandas.DataFrame\\n    :return: nothing is returned the VIFs are printed as a pandas series\\n    \\\"\\\"\\\"\\n    # Silence numpy FutureWarning about .ptp\\n    with warnings.catch_warnings():\\n        warnings.simplefilter(\\\"ignore\\\")\\n        x = sm.add_constant(x)\\n\\n    vifs = []\\n    for i in range(x.shape[1]):\\n        vif = variance_inflation_factor(x.values, i)\\n        vifs.append(vif)\\n\\n    print(\\\"VIF results\\\\n-------------------------------\\\")\\n    print(pd.Series(vifs, index=x.columns))\\n    print(\\\"-------------------------------\\\\n\\\")\";\n",
       "                var nbb_cells = Jupyter.notebook.get_cells();\n",
       "                for (var i = 0; i < nbb_cells.length; ++i) {\n",
       "                    if (nbb_cells[i].input_prompt_number == nbb_cell_id) {\n",
       "                        if (nbb_cells[i].get_text() == nbb_unformatted_code) {\n",
       "                             nbb_cells[i].set_text(nbb_formatted_code);\n",
       "                        }\n",
       "                        break;\n",
       "                    }\n",
       "                }\n",
       "            }, 500);\n",
       "            "
      ],
      "text/plain": [
       "<IPython.core.display.Javascript object>"
      ]
     },
     "metadata": {},
     "output_type": "display_data"
    }
   ],
   "source": [
    "# function used for finding the VIF, provided by Adam\n",
    "\n",
    "def print_vif(x):\n",
    "    \"\"\"Utility for checking multicollinearity assumption\n",
    "\n",
    "    :param x: input features to check using VIF. This is assumed to be a pandas.DataFrame\n",
    "    :return: nothing is returned the VIFs are printed as a pandas series\n",
    "    \"\"\"\n",
    "    # Silence numpy FutureWarning about .ptp\n",
    "    with warnings.catch_warnings():\n",
    "        warnings.simplefilter(\"ignore\")\n",
    "        x = sm.add_constant(x)\n",
    "\n",
    "    vifs = []\n",
    "    for i in range(x.shape[1]):\n",
    "        vif = variance_inflation_factor(x.values, i)\n",
    "        vifs.append(vif)\n",
    "\n",
    "    print(\"VIF results\\n-------------------------------\")\n",
    "    print(pd.Series(vifs, index=x.columns))\n",
    "    print(\"-------------------------------\\n\")"
   ]
  },
  {
   "cell_type": "code",
   "execution_count": 4,
   "metadata": {
    "run_control": {
     "marked": false
    }
   },
   "outputs": [
    {
     "data": {
      "application/javascript": [
       "\n",
       "            setTimeout(function() {\n",
       "                var nbb_cell_id = 4;\n",
       "                var nbb_unformatted_code = \"# Load in Data\\npath = \\\"https://raw.githubusercontent.com/WoodyBurns44/thinkful/main/ViceNews_FullOISData%20-%20Sheet1.csv\\\"\\n\\ndf = pd.read_csv(path)\";\n",
       "                var nbb_formatted_code = \"# Load in Data\\npath = \\\"https://raw.githubusercontent.com/WoodyBurns44/thinkful/main/ViceNews_FullOISData%20-%20Sheet1.csv\\\"\\n\\ndf = pd.read_csv(path)\";\n",
       "                var nbb_cells = Jupyter.notebook.get_cells();\n",
       "                for (var i = 0; i < nbb_cells.length; ++i) {\n",
       "                    if (nbb_cells[i].input_prompt_number == nbb_cell_id) {\n",
       "                        if (nbb_cells[i].get_text() == nbb_unformatted_code) {\n",
       "                             nbb_cells[i].set_text(nbb_formatted_code);\n",
       "                        }\n",
       "                        break;\n",
       "                    }\n",
       "                }\n",
       "            }, 500);\n",
       "            "
      ],
      "text/plain": [
       "<IPython.core.display.Javascript object>"
      ]
     },
     "metadata": {},
     "output_type": "display_data"
    }
   ],
   "source": [
    "# Load in Data\n",
    "path = \"https://raw.githubusercontent.com/WoodyBurns44/thinkful/main/ViceNews_FullOISData%20-%20Sheet1.csv\"\n",
    "\n",
    "df = pd.read_csv(path)"
   ]
  },
  {
   "cell_type": "code",
   "execution_count": 5,
   "metadata": {},
   "outputs": [
    {
     "data": {
      "text/html": [
       "<div>\n",
       "<style scoped>\n",
       "    .dataframe tbody tr th:only-of-type {\n",
       "        vertical-align: middle;\n",
       "    }\n",
       "\n",
       "    .dataframe tbody tr th {\n",
       "        vertical-align: top;\n",
       "    }\n",
       "\n",
       "    .dataframe thead th {\n",
       "        text-align: right;\n",
       "    }\n",
       "</style>\n",
       "<table border=\"1\" class=\"dataframe\">\n",
       "  <thead>\n",
       "    <tr style=\"text-align: right;\">\n",
       "      <th></th>\n",
       "      <th>Date</th>\n",
       "      <th>NumberOfSubjects</th>\n",
       "      <th>Fatal</th>\n",
       "      <th>SubjectArmed</th>\n",
       "      <th>SubjectRace</th>\n",
       "      <th>SubjectGender</th>\n",
       "      <th>SubjectAge</th>\n",
       "      <th>NatureOfStop</th>\n",
       "      <th>NumberOfShots</th>\n",
       "      <th>NumberOfOfficers</th>\n",
       "      <th>OfficerRace</th>\n",
       "      <th>OfficerGender</th>\n",
       "      <th>Department</th>\n",
       "      <th>FullNarrative</th>\n",
       "      <th>City</th>\n",
       "      <th>Notes</th>\n",
       "    </tr>\n",
       "  </thead>\n",
       "  <tbody>\n",
       "    <tr>\n",
       "      <th>0</th>\n",
       "      <td>3/4/2010</td>\n",
       "      <td>1</td>\n",
       "      <td>N</td>\n",
       "      <td>N</td>\n",
       "      <td>L</td>\n",
       "      <td>U</td>\n",
       "      <td>U</td>\n",
       "      <td>NaN</td>\n",
       "      <td>NaN</td>\n",
       "      <td>1</td>\n",
       "      <td>W</td>\n",
       "      <td>M</td>\n",
       "      <td>Albuquerque Police Department</td>\n",
       "      <td>NaN</td>\n",
       "      <td>Albuquerque</td>\n",
       "      <td>motorized vehicle; no hits</td>\n",
       "    </tr>\n",
       "    <tr>\n",
       "      <th>1</th>\n",
       "      <td>1/9/2010</td>\n",
       "      <td>1</td>\n",
       "      <td>F</td>\n",
       "      <td>Y</td>\n",
       "      <td>W</td>\n",
       "      <td>M</td>\n",
       "      <td>U</td>\n",
       "      <td>NaN</td>\n",
       "      <td>NaN</td>\n",
       "      <td>1</td>\n",
       "      <td>W</td>\n",
       "      <td>M</td>\n",
       "      <td>Albuquerque Police Department</td>\n",
       "      <td>NaN</td>\n",
       "      <td>Albuquerque</td>\n",
       "      <td>NaN</td>\n",
       "    </tr>\n",
       "    <tr>\n",
       "      <th>2</th>\n",
       "      <td>6/10/2010</td>\n",
       "      <td>1</td>\n",
       "      <td>F</td>\n",
       "      <td>Y</td>\n",
       "      <td>W</td>\n",
       "      <td>M</td>\n",
       "      <td>U</td>\n",
       "      <td>NaN</td>\n",
       "      <td>NaN</td>\n",
       "      <td>2</td>\n",
       "      <td>W;W</td>\n",
       "      <td>M;M</td>\n",
       "      <td>Albuquerque Police Department</td>\n",
       "      <td>NaN</td>\n",
       "      <td>Albuquerque</td>\n",
       "      <td>NaN</td>\n",
       "    </tr>\n",
       "    <tr>\n",
       "      <th>3</th>\n",
       "      <td>11/10/2010</td>\n",
       "      <td>1</td>\n",
       "      <td>N</td>\n",
       "      <td>Y</td>\n",
       "      <td>U</td>\n",
       "      <td>M</td>\n",
       "      <td>U</td>\n",
       "      <td>NaN</td>\n",
       "      <td>NaN</td>\n",
       "      <td>1</td>\n",
       "      <td>W</td>\n",
       "      <td>M</td>\n",
       "      <td>Albuquerque Police Department</td>\n",
       "      <td>NaN</td>\n",
       "      <td>Albuquerque</td>\n",
       "      <td>NaN</td>\n",
       "    </tr>\n",
       "    <tr>\n",
       "      <th>4</th>\n",
       "      <td>11/11/2010</td>\n",
       "      <td>1</td>\n",
       "      <td>N</td>\n",
       "      <td>Y</td>\n",
       "      <td>L</td>\n",
       "      <td>M</td>\n",
       "      <td>U</td>\n",
       "      <td>NaN</td>\n",
       "      <td>NaN</td>\n",
       "      <td>1</td>\n",
       "      <td>W</td>\n",
       "      <td>M</td>\n",
       "      <td>Albuquerque Police Department</td>\n",
       "      <td>NaN</td>\n",
       "      <td>Albuquerque</td>\n",
       "      <td>NaN</td>\n",
       "    </tr>\n",
       "  </tbody>\n",
       "</table>\n",
       "</div>"
      ],
      "text/plain": [
       "         Date  NumberOfSubjects Fatal SubjectArmed SubjectRace SubjectGender  \\\n",
       "0    3/4/2010                 1     N            N           L             U   \n",
       "1    1/9/2010                 1     F            Y           W             M   \n",
       "2   6/10/2010                 1     F            Y           W             M   \n",
       "3  11/10/2010                 1     N            Y           U             M   \n",
       "4  11/11/2010                 1     N            Y           L             M   \n",
       "\n",
       "  SubjectAge NatureOfStop NumberOfShots NumberOfOfficers OfficerRace  \\\n",
       "0          U          NaN           NaN                1           W   \n",
       "1          U          NaN           NaN                1           W   \n",
       "2          U          NaN           NaN                2         W;W   \n",
       "3          U          NaN           NaN                1           W   \n",
       "4          U          NaN           NaN                1           W   \n",
       "\n",
       "  OfficerGender                     Department FullNarrative         City  \\\n",
       "0             M  Albuquerque Police Department           NaN  Albuquerque   \n",
       "1             M  Albuquerque Police Department           NaN  Albuquerque   \n",
       "2           M;M  Albuquerque Police Department           NaN  Albuquerque   \n",
       "3             M  Albuquerque Police Department           NaN  Albuquerque   \n",
       "4             M  Albuquerque Police Department           NaN  Albuquerque   \n",
       "\n",
       "                        Notes  \n",
       "0  motorized vehicle; no hits  \n",
       "1                         NaN  \n",
       "2                         NaN  \n",
       "3                         NaN  \n",
       "4                         NaN  "
      ]
     },
     "execution_count": 5,
     "metadata": {},
     "output_type": "execute_result"
    },
    {
     "data": {
      "application/javascript": [
       "\n",
       "            setTimeout(function() {\n",
       "                var nbb_cell_id = 5;\n",
       "                var nbb_unformatted_code = \"df.head()\";\n",
       "                var nbb_formatted_code = \"df.head()\";\n",
       "                var nbb_cells = Jupyter.notebook.get_cells();\n",
       "                for (var i = 0; i < nbb_cells.length; ++i) {\n",
       "                    if (nbb_cells[i].input_prompt_number == nbb_cell_id) {\n",
       "                        if (nbb_cells[i].get_text() == nbb_unformatted_code) {\n",
       "                             nbb_cells[i].set_text(nbb_formatted_code);\n",
       "                        }\n",
       "                        break;\n",
       "                    }\n",
       "                }\n",
       "            }, 500);\n",
       "            "
      ],
      "text/plain": [
       "<IPython.core.display.Javascript object>"
      ]
     },
     "metadata": {},
     "output_type": "display_data"
    }
   ],
   "source": [
    "df.head(2)"
   ]
  },
  {
   "cell_type": "code",
   "execution_count": 6,
   "metadata": {},
   "outputs": [
    {
     "data": {
      "application/javascript": [
       "\n",
       "            setTimeout(function() {\n",
       "                var nbb_cell_id = 6;\n",
       "                var nbb_unformatted_code = \"# Seperate descriptive columns for language analysis\\nlanguage_df = df[[\\\"Fatal\\\", \\\"NatureOfStop\\\", \\\"FullNarrative\\\", \\\"Notes\\\"]]\";\n",
       "                var nbb_formatted_code = \"# Seperate descriptive columns for language analysis\\nlanguage_df = df[[\\\"Fatal\\\", \\\"NatureOfStop\\\", \\\"FullNarrative\\\", \\\"Notes\\\"]]\";\n",
       "                var nbb_cells = Jupyter.notebook.get_cells();\n",
       "                for (var i = 0; i < nbb_cells.length; ++i) {\n",
       "                    if (nbb_cells[i].input_prompt_number == nbb_cell_id) {\n",
       "                        if (nbb_cells[i].get_text() == nbb_unformatted_code) {\n",
       "                             nbb_cells[i].set_text(nbb_formatted_code);\n",
       "                        }\n",
       "                        break;\n",
       "                    }\n",
       "                }\n",
       "            }, 500);\n",
       "            "
      ],
      "text/plain": [
       "<IPython.core.display.Javascript object>"
      ]
     },
     "metadata": {},
     "output_type": "display_data"
    }
   ],
   "source": [
    "# Seperate descriptive columns for language analysis\n",
    "language_df = df[[\"Fatal\", \"NatureOfStop\", \"FullNarrative\", \"Notes\"]]"
   ]
  },
  {
   "cell_type": "code",
   "execution_count": 7,
   "metadata": {},
   "outputs": [
    {
     "data": {
      "application/javascript": [
       "\n",
       "            setTimeout(function() {\n",
       "                var nbb_cell_id = 7;\n",
       "                var nbb_unformatted_code = \"# Drop language categories\\n# Drop Number of Subjects, redundant because all values are 1.\\ndf = df.drop(columns=[\\\"NatureOfStop\\\", \\\"FullNarrative\\\", \\\"Notes\\\", \\\"NumberOfSubjects\\\"])\";\n",
       "                var nbb_formatted_code = \"# Drop language categories\\n# Drop Number of Subjects, redundant because all values are 1.\\ndf = df.drop(columns=[\\\"NatureOfStop\\\", \\\"FullNarrative\\\", \\\"Notes\\\", \\\"NumberOfSubjects\\\"])\";\n",
       "                var nbb_cells = Jupyter.notebook.get_cells();\n",
       "                for (var i = 0; i < nbb_cells.length; ++i) {\n",
       "                    if (nbb_cells[i].input_prompt_number == nbb_cell_id) {\n",
       "                        if (nbb_cells[i].get_text() == nbb_unformatted_code) {\n",
       "                             nbb_cells[i].set_text(nbb_formatted_code);\n",
       "                        }\n",
       "                        break;\n",
       "                    }\n",
       "                }\n",
       "            }, 500);\n",
       "            "
      ],
      "text/plain": [
       "<IPython.core.display.Javascript object>"
      ]
     },
     "metadata": {},
     "output_type": "display_data"
    }
   ],
   "source": [
    "# Drop language categories\n",
    "# Drop Number of Subjects, redundant because all values are 1.\n",
    "df = df.drop(columns=[\"NatureOfStop\", \"FullNarrative\", \"Notes\", \"NumberOfSubjects\"])"
   ]
  },
  {
   "cell_type": "markdown",
   "metadata": {},
   "source": [
    "## Data Cleaning, exploration, and feature engineering"
   ]
  },
  {
   "cell_type": "code",
   "execution_count": 8,
   "metadata": {},
   "outputs": [
    {
     "data": {
      "application/javascript": [
       "\n",
       "            setTimeout(function() {\n",
       "                var nbb_cell_id = 8;\n",
       "                var nbb_unformatted_code = \"# TODO: Cleaning and preperation\\n# - 'Date' - extract year, month, maybe drop - *\\n# - 'NumberOfSubjects' is redundant, all values are 1 - *\\n# - 'Fatal' - Standardize Values - *\\n# - 'SubjectArmed' - Standardize Values - *\\n# - 'SubjectRace' - Deal with na's - *\\n# - 'SubjectGender' - deal with 2 na's - *\\n# - 'SubjectAge' - deal with 3 na's, group by 10 years - *\\n# - 'NatureOfStop' - Create \\\"Other\\\" value, deal with high # of NA's\\n# - 'NumberOfShots' - combine when multiple officers are involved - *\\n# - 'NumberOfOfficers' - standardize values and group - *\\n# - 'OfficerRace' - Create \\\"multiple Officer value\\\", create 'minority officer involved' variable\\n# - 'OfficerGender' - Standadize and create 'multiple_officer' and 'female present' cats\\n# - 'Department' - Redundant, since city is listed\\n# - 'FullNarrative' - NLP? Has FN? SKLEARN.feature_extraction.text TFIDF vectorizer\\n# - 'City' - Might be redundant, Check out in EDA, drop for model\\n# - 'Notes' - What to do with them, maybe do some NLP\\n\\n# Wordclouds - Fatal and Not Fatal\";\n",
       "                var nbb_formatted_code = \"# TODO: Cleaning and preperation\\n# - 'Date' - extract year, month, maybe drop - *\\n# - 'NumberOfSubjects' is redundant, all values are 1 - *\\n# - 'Fatal' - Standardize Values - *\\n# - 'SubjectArmed' - Standardize Values - *\\n# - 'SubjectRace' - Deal with na's - *\\n# - 'SubjectGender' - deal with 2 na's - *\\n# - 'SubjectAge' - deal with 3 na's, group by 10 years - *\\n# - 'NatureOfStop' - Create \\\"Other\\\" value, deal with high # of NA's\\n# - 'NumberOfShots' - combine when multiple officers are involved - *\\n# - 'NumberOfOfficers' - standardize values and group - *\\n# - 'OfficerRace' - Create \\\"multiple Officer value\\\", create 'minority officer involved' variable\\n# - 'OfficerGender' - Standadize and create 'multiple_officer' and 'female present' cats\\n# - 'Department' - Redundant, since city is listed\\n# - 'FullNarrative' - NLP? Has FN? SKLEARN.feature_extraction.text TFIDF vectorizer\\n# - 'City' - Might be redundant, Check out in EDA, drop for model\\n# - 'Notes' - What to do with them, maybe do some NLP\\n\\n# Wordclouds - Fatal and Not Fatal\";\n",
       "                var nbb_cells = Jupyter.notebook.get_cells();\n",
       "                for (var i = 0; i < nbb_cells.length; ++i) {\n",
       "                    if (nbb_cells[i].input_prompt_number == nbb_cell_id) {\n",
       "                        if (nbb_cells[i].get_text() == nbb_unformatted_code) {\n",
       "                             nbb_cells[i].set_text(nbb_formatted_code);\n",
       "                        }\n",
       "                        break;\n",
       "                    }\n",
       "                }\n",
       "            }, 500);\n",
       "            "
      ],
      "text/plain": [
       "<IPython.core.display.Javascript object>"
      ]
     },
     "metadata": {},
     "output_type": "display_data"
    }
   ],
   "source": [
    "# TODO: Cleaning and preperation\n",
    "# - 'Date' - extract year, month, maybe drop - *\n",
    "# - 'NumberOfSubjects' is redundant, all values are 1 - *\n",
    "# - 'Fatal' - Standardize Values - *\n",
    "# - 'SubjectArmed' - Standardize Values - *\n",
    "# - 'SubjectRace' - Deal with na's - *\n",
    "# - 'SubjectGender' - deal with 2 na's - *\n",
    "# - 'SubjectAge' - deal with 3 na's, group by 10 years - *\n",
    "# - 'NatureOfStop' - Create \"Other\" value, deal with high # of NA's\n",
    "# - 'NumberOfShots' - combine when multiple officers are involved - *\n",
    "# - 'NumberOfOfficers' - standardize values and group - *\n",
    "# - 'OfficerRace' - Create \"multiple Officer value\", create 'minority officer involved' variable\n",
    "# - 'OfficerGender' - Standadize and create 'multiple_officer' and 'female present' cats\n",
    "# - 'Department' - Redundant, since city is listed\n",
    "# - 'FullNarrative' - NLP? Has FN? SKLEARN.feature_extraction.text TFIDF vectorizer\n",
    "# - 'City' - Might be redundant, Check out in EDA, drop for model\n",
    "# - 'Notes' - What to do with them, maybe do some NLP\n",
    "\n",
    "# Wordclouds - Fatal and Not Fatal"
   ]
  },
  {
   "cell_type": "markdown",
   "metadata": {},
   "source": [
    "### Target Variable - Fatal"
   ]
  },
  {
   "cell_type": "code",
   "execution_count": 9,
   "metadata": {},
   "outputs": [
    {
     "data": {
      "application/javascript": [
       "\n",
       "            setTimeout(function() {\n",
       "                var nbb_cell_id = 9;\n",
       "                var nbb_unformatted_code = \"# Cleaning N and F with spaces\\ndf[\\\"Fatal\\\"].replace({\\\" N\\\": \\\"N\\\", \\\" F\\\": \\\"F\\\"}, inplace=True)\\n# Since Fatality is target, Dropping Rows where Fatality is unknown\\nunknown_fatals = df[df[\\\"Fatal\\\"] == \\\"U\\\"].index\\ndf = df.drop(unknown_fatals, axis=0)\";\n",
       "                var nbb_formatted_code = \"# Cleaning N and F with spaces\\ndf[\\\"Fatal\\\"].replace({\\\" N\\\": \\\"N\\\", \\\" F\\\": \\\"F\\\"}, inplace=True)\\n# Since Fatality is target, Dropping Rows where Fatality is unknown\\nunknown_fatals = df[df[\\\"Fatal\\\"] == \\\"U\\\"].index\\ndf = df.drop(unknown_fatals, axis=0)\";\n",
       "                var nbb_cells = Jupyter.notebook.get_cells();\n",
       "                for (var i = 0; i < nbb_cells.length; ++i) {\n",
       "                    if (nbb_cells[i].input_prompt_number == nbb_cell_id) {\n",
       "                        if (nbb_cells[i].get_text() == nbb_unformatted_code) {\n",
       "                             nbb_cells[i].set_text(nbb_formatted_code);\n",
       "                        }\n",
       "                        break;\n",
       "                    }\n",
       "                }\n",
       "            }, 500);\n",
       "            "
      ],
      "text/plain": [
       "<IPython.core.display.Javascript object>"
      ]
     },
     "metadata": {},
     "output_type": "display_data"
    }
   ],
   "source": [
    "# Cleaning N and F with spaces\n",
    "df[\"Fatal\"].replace({\" N\": \"N\", \" F\": \"F\"}, inplace=True)\n",
    "# Since Fatality is target, Dropping Rows where Fatality is unknown\n",
    "unknown_fatals = df[df[\"Fatal\"] == \"U\"].index\n",
    "df = df.drop(unknown_fatals, axis=0)"
   ]
  },
  {
   "cell_type": "markdown",
   "metadata": {},
   "source": [
    "### Date"
   ]
  },
  {
   "cell_type": "code",
   "execution_count": 10,
   "metadata": {},
   "outputs": [
    {
     "data": {
      "application/javascript": [
       "\n",
       "            setTimeout(function() {\n",
       "                var nbb_cell_id = 10;\n",
       "                var nbb_unformatted_code = \"# Convert to datetime format\\ndf[\\\"Date\\\"] = pd.to_datetime(df[\\\"Date\\\"])\\n# Extract Year and Month\\ndf[\\\"Year\\\"] = df[\\\"Date\\\"].dt.year\\ndf[\\\"Month\\\"] = df[\\\"Date\\\"].dt.month\\n# Drop original Date column\\ndf = df.drop(columns=\\\"Date\\\")\";\n",
       "                var nbb_formatted_code = \"# Convert to datetime format\\ndf[\\\"Date\\\"] = pd.to_datetime(df[\\\"Date\\\"])\\n# Extract Year and Month\\ndf[\\\"Year\\\"] = df[\\\"Date\\\"].dt.year\\ndf[\\\"Month\\\"] = df[\\\"Date\\\"].dt.month\\n# Drop original Date column\\ndf = df.drop(columns=\\\"Date\\\")\";\n",
       "                var nbb_cells = Jupyter.notebook.get_cells();\n",
       "                for (var i = 0; i < nbb_cells.length; ++i) {\n",
       "                    if (nbb_cells[i].input_prompt_number == nbb_cell_id) {\n",
       "                        if (nbb_cells[i].get_text() == nbb_unformatted_code) {\n",
       "                             nbb_cells[i].set_text(nbb_formatted_code);\n",
       "                        }\n",
       "                        break;\n",
       "                    }\n",
       "                }\n",
       "            }, 500);\n",
       "            "
      ],
      "text/plain": [
       "<IPython.core.display.Javascript object>"
      ]
     },
     "metadata": {},
     "output_type": "display_data"
    }
   ],
   "source": [
    "# Convert to datetime format\n",
    "df[\"Date\"] = pd.to_datetime(df[\"Date\"])\n",
    "# Extract Year and Month\n",
    "df[\"Year\"] = df[\"Date\"].dt.year\n",
    "df[\"Month\"] = df[\"Date\"].dt.month\n",
    "# Drop original Date column\n",
    "df = df.drop(columns=\"Date\")"
   ]
  },
  {
   "cell_type": "markdown",
   "metadata": {},
   "source": [
    "### Subject Armed"
   ]
  },
  {
   "cell_type": "code",
   "execution_count": 11,
   "metadata": {},
   "outputs": [
    {
     "data": {
      "application/javascript": [
       "\n",
       "            setTimeout(function() {\n",
       "                var nbb_cell_id = 11;\n",
       "                var nbb_unformatted_code = \"df[\\\"SubjectArmed\\\"].value_counts()\\n# Fix syntatical issues\\ndf[\\\"SubjectArmed\\\"].replace(\\\"Y \\\", \\\"Y\\\", inplace=True)\\n# Filling Nan values with U for Unknown\\ndf[\\\"SubjectArmed\\\"] = df[\\\"SubjectArmed\\\"].fillna(\\\"U\\\")\";\n",
       "                var nbb_formatted_code = \"df[\\\"SubjectArmed\\\"].value_counts()\\n# Fix syntatical issues\\ndf[\\\"SubjectArmed\\\"].replace(\\\"Y \\\", \\\"Y\\\", inplace=True)\\n# Filling Nan values with U for Unknown\\ndf[\\\"SubjectArmed\\\"] = df[\\\"SubjectArmed\\\"].fillna(\\\"U\\\")\";\n",
       "                var nbb_cells = Jupyter.notebook.get_cells();\n",
       "                for (var i = 0; i < nbb_cells.length; ++i) {\n",
       "                    if (nbb_cells[i].input_prompt_number == nbb_cell_id) {\n",
       "                        if (nbb_cells[i].get_text() == nbb_unformatted_code) {\n",
       "                             nbb_cells[i].set_text(nbb_formatted_code);\n",
       "                        }\n",
       "                        break;\n",
       "                    }\n",
       "                }\n",
       "            }, 500);\n",
       "            "
      ],
      "text/plain": [
       "<IPython.core.display.Javascript object>"
      ]
     },
     "metadata": {},
     "output_type": "display_data"
    }
   ],
   "source": [
    "df[\"SubjectArmed\"].value_counts()\n",
    "# Fix syntatical issues\n",
    "df[\"SubjectArmed\"].replace(\"Y \", \"Y\", inplace=True)\n",
    "# Filling Nan values with U for Unknown\n",
    "df[\"SubjectArmed\"] = df[\"SubjectArmed\"].fillna(\"U\")"
   ]
  },
  {
   "cell_type": "markdown",
   "metadata": {},
   "source": [
    "### Subject Race"
   ]
  },
  {
   "cell_type": "code",
   "execution_count": 12,
   "metadata": {},
   "outputs": [
    {
     "data": {
      "text/plain": [
       "B    1604\n",
       "U    1152\n",
       "L     667\n",
       "W     637\n",
       "A      38\n",
       "O      14\n",
       "Name: SubjectRace, dtype: int64"
      ]
     },
     "execution_count": 12,
     "metadata": {},
     "output_type": "execute_result"
    },
    {
     "data": {
      "application/javascript": [
       "\n",
       "            setTimeout(function() {\n",
       "                var nbb_cell_id = 12;\n",
       "                var nbb_unformatted_code = \"df[\\\"SubjectRace\\\"].isna().sum()\\ndf[\\\"SubjectRace\\\"] = df[\\\"SubjectRace\\\"].fillna(\\\"U\\\")\\ndf[\\\"SubjectRace\\\"].value_counts()\";\n",
       "                var nbb_formatted_code = \"df[\\\"SubjectRace\\\"].isna().sum()\\ndf[\\\"SubjectRace\\\"] = df[\\\"SubjectRace\\\"].fillna(\\\"U\\\")\\ndf[\\\"SubjectRace\\\"].value_counts()\";\n",
       "                var nbb_cells = Jupyter.notebook.get_cells();\n",
       "                for (var i = 0; i < nbb_cells.length; ++i) {\n",
       "                    if (nbb_cells[i].input_prompt_number == nbb_cell_id) {\n",
       "                        if (nbb_cells[i].get_text() == nbb_unformatted_code) {\n",
       "                             nbb_cells[i].set_text(nbb_formatted_code);\n",
       "                        }\n",
       "                        break;\n",
       "                    }\n",
       "                }\n",
       "            }, 500);\n",
       "            "
      ],
      "text/plain": [
       "<IPython.core.display.Javascript object>"
      ]
     },
     "metadata": {},
     "output_type": "display_data"
    }
   ],
   "source": [
    "df[\"SubjectRace\"].isna().sum()\n",
    "df[\"SubjectRace\"] = df[\"SubjectRace\"].fillna(\"U\")\n",
    "df[\"SubjectRace\"].value_counts()"
   ]
  },
  {
   "cell_type": "markdown",
   "metadata": {},
   "source": [
    "### Subject Gender\n"
   ]
  },
  {
   "cell_type": "code",
   "execution_count": 13,
   "metadata": {},
   "outputs": [
    {
     "data": {
      "application/javascript": [
       "\n",
       "            setTimeout(function() {\n",
       "                var nbb_cell_id = 13;\n",
       "                var nbb_unformatted_code = \"# df[df['SubjectGender'] == 'M;U']\\ndf[\\\"SubjectGender\\\"].replace(\\\"M;U\\\", \\\"M\\\", inplace=True)\";\n",
       "                var nbb_formatted_code = \"# df[df['SubjectGender'] == 'M;U']\\ndf[\\\"SubjectGender\\\"].replace(\\\"M;U\\\", \\\"M\\\", inplace=True)\";\n",
       "                var nbb_cells = Jupyter.notebook.get_cells();\n",
       "                for (var i = 0; i < nbb_cells.length; ++i) {\n",
       "                    if (nbb_cells[i].input_prompt_number == nbb_cell_id) {\n",
       "                        if (nbb_cells[i].get_text() == nbb_unformatted_code) {\n",
       "                             nbb_cells[i].set_text(nbb_formatted_code);\n",
       "                        }\n",
       "                        break;\n",
       "                    }\n",
       "                }\n",
       "            }, 500);\n",
       "            "
      ],
      "text/plain": [
       "<IPython.core.display.Javascript object>"
      ]
     },
     "metadata": {},
     "output_type": "display_data"
    }
   ],
   "source": [
    "# df[df['SubjectGender'] == 'M;U']\n",
    "df[\"SubjectGender\"].replace(\"M;U\", \"M\", inplace=True)"
   ]
  },
  {
   "cell_type": "markdown",
   "metadata": {},
   "source": [
    "### Subject Age"
   ]
  },
  {
   "cell_type": "code",
   "execution_count": 14,
   "metadata": {},
   "outputs": [
    {
     "data": {
      "application/javascript": [
       "\n",
       "            setTimeout(function() {\n",
       "                var nbb_cell_id = 14;\n",
       "                var nbb_unformatted_code = \"# df[\\\"SubjectAge\\\"].unique()\\n# df[df['SubjectAge'] == '20-29']\\n# df[df['SubjectAge'] == '0-19']\\n# df[df['SubjectAge'] == '30-39']\\n# df[df['SubjectAge'] == 'Juvenile']\\n\\n# When age ranges are given, replace with average of range.\\n# Except for 0-19, which I am treating as 17 year olds because\\n# after doing some research, that seems like the average age of\\n# young people involved in incidents. In the case of \\\"Juvenile\\\",\\n# I set that to 17 as well for the same reason.\\ndf[\\\"SubjectAge\\\"].replace(\\n    {\\n        \\\"UNKNOWN\\\": \\\"U\\\",\\n        \\\"0-19\\\": \\\"17\\\",\\n        \\\"20-29\\\": \\\"25\\\",\\n        \\\"30-39\\\": \\\"35\\\",\\n        \\\"40-49\\\": \\\"45\\\",\\n        \\\"50-59\\\": \\\"55\\\",\\n        \\\"NaN\\\": \\\"U\\\",\\n        \\\"Juvenile\\\": \\\"17\\\",\\n        \\\"21-23\\\": \\\"22\\\",\\n    },\\n    inplace=True,\\n)\\n\\ndf[\\\"SubjectAge\\\"].fillna(\\\"U\\\", inplace=True)\\n\\n# df[\\\"SubjectAge\\\"].isna().sum()\";\n",
       "                var nbb_formatted_code = \"# df[\\\"SubjectAge\\\"].unique()\\n# df[df['SubjectAge'] == '20-29']\\n# df[df['SubjectAge'] == '0-19']\\n# df[df['SubjectAge'] == '30-39']\\n# df[df['SubjectAge'] == 'Juvenile']\\n\\n# When age ranges are given, replace with average of range.\\n# Except for 0-19, which I am treating as 17 year olds because\\n# after doing some research, that seems like the average age of\\n# young people involved in incidents. In the case of \\\"Juvenile\\\",\\n# I set that to 17 as well for the same reason.\\ndf[\\\"SubjectAge\\\"].replace(\\n    {\\n        \\\"UNKNOWN\\\": \\\"U\\\",\\n        \\\"0-19\\\": \\\"17\\\",\\n        \\\"20-29\\\": \\\"25\\\",\\n        \\\"30-39\\\": \\\"35\\\",\\n        \\\"40-49\\\": \\\"45\\\",\\n        \\\"50-59\\\": \\\"55\\\",\\n        \\\"NaN\\\": \\\"U\\\",\\n        \\\"Juvenile\\\": \\\"17\\\",\\n        \\\"21-23\\\": \\\"22\\\",\\n    },\\n    inplace=True,\\n)\\n\\ndf[\\\"SubjectAge\\\"].fillna(\\\"U\\\", inplace=True)\\n\\n# df[\\\"SubjectAge\\\"].isna().sum()\";\n",
       "                var nbb_cells = Jupyter.notebook.get_cells();\n",
       "                for (var i = 0; i < nbb_cells.length; ++i) {\n",
       "                    if (nbb_cells[i].input_prompt_number == nbb_cell_id) {\n",
       "                        if (nbb_cells[i].get_text() == nbb_unformatted_code) {\n",
       "                             nbb_cells[i].set_text(nbb_formatted_code);\n",
       "                        }\n",
       "                        break;\n",
       "                    }\n",
       "                }\n",
       "            }, 500);\n",
       "            "
      ],
      "text/plain": [
       "<IPython.core.display.Javascript object>"
      ]
     },
     "metadata": {},
     "output_type": "display_data"
    }
   ],
   "source": [
    "# df[\"SubjectAge\"].unique()\n",
    "# df[df['SubjectAge'] == '20-29']\n",
    "# df[df['SubjectAge'] == '0-19']\n",
    "# df[df['SubjectAge'] == '30-39']\n",
    "# df[df['SubjectAge'] == 'Juvenile']\n",
    "\n",
    "# When age ranges are given, replace with average of range.\n",
    "# Except for 0-19, which I am treating as 17 year olds because\n",
    "# after doing some research, that seems like the average age of\n",
    "# young people involved in incidents. In the case of \"Juvenile\",\n",
    "# I set that to 17 as well for the same reason.\n",
    "df[\"SubjectAge\"].replace(\n",
    "    {\n",
    "        \"UNKNOWN\": \"U\",\n",
    "        \"0-19\": \"17\",\n",
    "        \"20-29\": \"25\",\n",
    "        \"30-39\": \"35\",\n",
    "        \"40-49\": \"45\",\n",
    "        \"50-59\": \"55\",\n",
    "        \"NaN\": \"U\",\n",
    "        \"Juvenile\": \"17\",\n",
    "        \"21-23\": \"22\",\n",
    "    },\n",
    "    inplace=True,\n",
    ")\n",
    "\n",
    "df[\"SubjectAge\"].fillna(\"U\", inplace=True)\n",
    "\n",
    "# df[\"SubjectAge\"].isna().sum()"
   ]
  },
  {
   "cell_type": "markdown",
   "metadata": {},
   "source": [
    "### Number of Officers"
   ]
  },
  {
   "cell_type": "code",
   "execution_count": 15,
   "metadata": {},
   "outputs": [
    {
     "data": {
      "application/javascript": [
       "\n",
       "            setTimeout(function() {\n",
       "                var nbb_cell_id = 15;\n",
       "                var nbb_unformatted_code = \"# When Number of Officers is represented with a '>', I rounded up\\n# to the nearest number divisible by 2, since officers usually have\\n# a partner.\\n# Replaced any instance of zero officers with 1, since there must have been\\n# at least one officer there.\\ndf[\\\"NumberOfOfficers\\\"].replace(\\n    {\\n        \\\">1\\\": 2,\\n        \\\"2 or multiple_officer\\\": 2,\\n        \\\">2\\\": 4,\\n        \\\">5\\\": 6,\\n        \\\">3\\\": 4,\\n        \\\">6\\\": 8,\\n        \\\">7\\\": 8,\\n        \\\"2 or More\\\": 2,\\n    },\\n    inplace=True,\\n)\";\n",
       "                var nbb_formatted_code = \"# When Number of Officers is represented with a '>', I rounded up\\n# to the nearest number divisible by 2, since officers usually have\\n# a partner.\\n# Replaced any instance of zero officers with 1, since there must have been\\n# at least one officer there.\\ndf[\\\"NumberOfOfficers\\\"].replace(\\n    {\\n        \\\">1\\\": 2,\\n        \\\"2 or multiple_officer\\\": 2,\\n        \\\">2\\\": 4,\\n        \\\">5\\\": 6,\\n        \\\">3\\\": 4,\\n        \\\">6\\\": 8,\\n        \\\">7\\\": 8,\\n        \\\"2 or More\\\": 2,\\n    },\\n    inplace=True,\\n)\";\n",
       "                var nbb_cells = Jupyter.notebook.get_cells();\n",
       "                for (var i = 0; i < nbb_cells.length; ++i) {\n",
       "                    if (nbb_cells[i].input_prompt_number == nbb_cell_id) {\n",
       "                        if (nbb_cells[i].get_text() == nbb_unformatted_code) {\n",
       "                             nbb_cells[i].set_text(nbb_formatted_code);\n",
       "                        }\n",
       "                        break;\n",
       "                    }\n",
       "                }\n",
       "            }, 500);\n",
       "            "
      ],
      "text/plain": [
       "<IPython.core.display.Javascript object>"
      ]
     },
     "metadata": {},
     "output_type": "display_data"
    }
   ],
   "source": [
    "# When Number of Officers is represented with a '>', I rounded up\n",
    "# to the nearest number divisible by 2, since officers usually have\n",
    "# a partner.\n",
    "# Replaced any instance of zero officers with 1, since there must have been\n",
    "# at least one officer there.\n",
    "df[\"NumberOfOfficers\"].replace(\n",
    "    {\n",
    "        \">1\": 2,\n",
    "        \"2 or multiple_officer\": 2,\n",
    "        \">2\": 4,\n",
    "        \">5\": 6,\n",
    "        \">3\": 4,\n",
    "        \">6\": 8,\n",
    "        \">7\": 8,\n",
    "        \"2 or More\": 2,\n",
    "    },\n",
    "    inplace=True,\n",
    ")"
   ]
  },
  {
   "cell_type": "markdown",
   "metadata": {},
   "source": [
    "### Officer Race"
   ]
  },
  {
   "cell_type": "code",
   "execution_count": 16,
   "metadata": {},
   "outputs": [
    {
     "data": {
      "text/html": [
       "<div>\n",
       "<style scoped>\n",
       "    .dataframe tbody tr th:only-of-type {\n",
       "        vertical-align: middle;\n",
       "    }\n",
       "\n",
       "    .dataframe tbody tr th {\n",
       "        vertical-align: top;\n",
       "    }\n",
       "\n",
       "    .dataframe thead th {\n",
       "        text-align: right;\n",
       "    }\n",
       "</style>\n",
       "<table border=\"1\" class=\"dataframe\">\n",
       "  <thead>\n",
       "    <tr style=\"text-align: right;\">\n",
       "      <th></th>\n",
       "      <th>Fatal</th>\n",
       "      <th>SubjectArmed</th>\n",
       "      <th>SubjectRace</th>\n",
       "      <th>SubjectGender</th>\n",
       "      <th>SubjectAge</th>\n",
       "      <th>NumberOfShots</th>\n",
       "      <th>NumberOfOfficers</th>\n",
       "      <th>OfficerGender</th>\n",
       "      <th>Department</th>\n",
       "      <th>City</th>\n",
       "      <th>Year</th>\n",
       "      <th>Month</th>\n",
       "      <th>races_split</th>\n",
       "      <th>White Officer Involved</th>\n",
       "      <th>Latino Officer Involved</th>\n",
       "      <th>officer_U</th>\n",
       "      <th>Black Officer Involved</th>\n",
       "      <th>Asian Officer Involve</th>\n",
       "      <th>Other Race Officer Involved</th>\n",
       "    </tr>\n",
       "  </thead>\n",
       "  <tbody>\n",
       "    <tr>\n",
       "      <th>0</th>\n",
       "      <td>N</td>\n",
       "      <td>N</td>\n",
       "      <td>L</td>\n",
       "      <td>U</td>\n",
       "      <td>U</td>\n",
       "      <td>NaN</td>\n",
       "      <td>1</td>\n",
       "      <td>M</td>\n",
       "      <td>Albuquerque Police Department</td>\n",
       "      <td>Albuquerque</td>\n",
       "      <td>2010</td>\n",
       "      <td>3</td>\n",
       "      <td>[W]</td>\n",
       "      <td>1</td>\n",
       "      <td>0</td>\n",
       "      <td>0</td>\n",
       "      <td>0</td>\n",
       "      <td>0</td>\n",
       "      <td>0</td>\n",
       "    </tr>\n",
       "    <tr>\n",
       "      <th>1</th>\n",
       "      <td>F</td>\n",
       "      <td>Y</td>\n",
       "      <td>W</td>\n",
       "      <td>M</td>\n",
       "      <td>U</td>\n",
       "      <td>NaN</td>\n",
       "      <td>1</td>\n",
       "      <td>M</td>\n",
       "      <td>Albuquerque Police Department</td>\n",
       "      <td>Albuquerque</td>\n",
       "      <td>2010</td>\n",
       "      <td>1</td>\n",
       "      <td>[W]</td>\n",
       "      <td>1</td>\n",
       "      <td>0</td>\n",
       "      <td>0</td>\n",
       "      <td>0</td>\n",
       "      <td>0</td>\n",
       "      <td>0</td>\n",
       "    </tr>\n",
       "  </tbody>\n",
       "</table>\n",
       "</div>"
      ],
      "text/plain": [
       "  Fatal SubjectArmed SubjectRace SubjectGender SubjectAge NumberOfShots  \\\n",
       "0     N            N           L             U          U           NaN   \n",
       "1     F            Y           W             M          U           NaN   \n",
       "\n",
       "  NumberOfOfficers OfficerGender                     Department         City  \\\n",
       "0                1             M  Albuquerque Police Department  Albuquerque   \n",
       "1                1             M  Albuquerque Police Department  Albuquerque   \n",
       "\n",
       "   Year  Month races_split  White Officer Involved  Latino Officer Involved  \\\n",
       "0  2010      3         [W]                       1                        0   \n",
       "1  2010      1         [W]                       1                        0   \n",
       "\n",
       "   officer_U  Black Officer Involved  Asian Officer Involve  \\\n",
       "0          0                       0                      0   \n",
       "1          0                       0                      0   \n",
       "\n",
       "   Other Race Officer Involved  \n",
       "0                            0  \n",
       "1                            0  "
      ]
     },
     "execution_count": 16,
     "metadata": {},
     "output_type": "execute_result"
    },
    {
     "data": {
      "application/javascript": [
       "\n",
       "            setTimeout(function() {\n",
       "                var nbb_cell_id = 16;\n",
       "                var nbb_unformatted_code = \"# Transform Officer race variables into binary features\\n# Indicating which races of officers were involved in the occurance\\n\\n\\ndf.OfficerRace.fillna(\\\"U\\\", inplace=True)\\nraces = df.OfficerRace.copy()\\nraces_split = races.str.split(\\\";\\\")\\nunique_races = []\\nfor race in races_split:\\n    for val in race:\\n        if val == \\\"WHITE\\\":\\n            val = \\\"W\\\"\\n        blk = [\\\"BLACK\\\", \\\"Other:B\\\", \\\"W:B\\\"]\\n        if val in blk:\\n            val = \\\"B\\\"\\n        api = [\\\"A/PI\\\", \\\"AI/AN\\\", \\\"A/PI Unknown\\\"]\\n        if val in api:\\n            val = \\\"A\\\"\\n        hisp = [\\\"H\\\", \\\"W/H\\\", \\\"W/ H\\\", \\\"H: H\\\", \\\"H/L\\\"]\\n        if val in hisp:\\n            val = \\\"L\\\"\\n        asian = [\\n            \\\"ASIAN\\\",\\n            \\\"A/W\\\",\\n            \\\"W/A\\\",\\n        ]\\n        if val in asian:\\n            val = \\\"A\\\"\\n        uk = [\\\"Unknown\\\", \\\"Unknown \\\", \\\"NA\\\", \\\"U \\\"]\\n        if val in uk:\\n            val = \\\"U\\\"\\n        wt = [\\\"W:W\\\", \\\"NA/W\\\"]\\n        if val in wt:\\n            val = \\\"W\\\"\\n        oth = [\\\"I\\\", \\\"m/m\\\", \\\"M\\\", \\\"Multi-Racial\\\"]\\n        if val in oth:\\n            val = \\\"O\\\"\\n        if val in unique_races:\\n            continue\\n        else:\\n            unique_races.append(val)\\n\\n\\ndf[\\\"races_split\\\"] = races_split\\nraces_split = df.races_split.to_list()\\nunique_races[1] = \\\"H\\\"\\ncats = [\\n    \\\"White Officer Involved\\\",\\n    \\\"Latino Officer Involved\\\",\\n    \\\"officer_U\\\",\\n    \\\"Black Officer Involved\\\",\\n    \\\"Asian Officer Involve\\\",\\n    \\\"Other Race Officer Involved\\\",\\n]\\n\\nofficers = []\\nfor j in range(len(races_split)):\\n    off = []\\n    for race in unique_races:\\n        if race in races_split[j]:\\n            off.append(1)\\n        else:\\n            off.append(0)\\n    officers.append(off)\\n\\n\\noff_df = pd.DataFrame(officers, columns=cats)\\n# off_df\\n\\ndf.reset_index(inplace=True)\\n\\ndf.drop(columns=[\\\"index\\\"], inplace=True)\\n# df\\n\\ndf = df.join(off_df)\\ndf.drop(columns=[\\\"OfficerRace\\\"], inplace=True)\\ndf.head(2)\";\n",
       "                var nbb_formatted_code = \"# Transform Officer race variables into binary features\\n# Indicating which races of officers were involved in the occurance\\n\\n\\ndf.OfficerRace.fillna(\\\"U\\\", inplace=True)\\nraces = df.OfficerRace.copy()\\nraces_split = races.str.split(\\\";\\\")\\nunique_races = []\\nfor race in races_split:\\n    for val in race:\\n        if val == \\\"WHITE\\\":\\n            val = \\\"W\\\"\\n        blk = [\\\"BLACK\\\", \\\"Other:B\\\", \\\"W:B\\\"]\\n        if val in blk:\\n            val = \\\"B\\\"\\n        api = [\\\"A/PI\\\", \\\"AI/AN\\\", \\\"A/PI Unknown\\\"]\\n        if val in api:\\n            val = \\\"A\\\"\\n        hisp = [\\\"H\\\", \\\"W/H\\\", \\\"W/ H\\\", \\\"H: H\\\", \\\"H/L\\\"]\\n        if val in hisp:\\n            val = \\\"L\\\"\\n        asian = [\\n            \\\"ASIAN\\\",\\n            \\\"A/W\\\",\\n            \\\"W/A\\\",\\n        ]\\n        if val in asian:\\n            val = \\\"A\\\"\\n        uk = [\\\"Unknown\\\", \\\"Unknown \\\", \\\"NA\\\", \\\"U \\\"]\\n        if val in uk:\\n            val = \\\"U\\\"\\n        wt = [\\\"W:W\\\", \\\"NA/W\\\"]\\n        if val in wt:\\n            val = \\\"W\\\"\\n        oth = [\\\"I\\\", \\\"m/m\\\", \\\"M\\\", \\\"Multi-Racial\\\"]\\n        if val in oth:\\n            val = \\\"O\\\"\\n        if val in unique_races:\\n            continue\\n        else:\\n            unique_races.append(val)\\n\\n\\ndf[\\\"races_split\\\"] = races_split\\nraces_split = df.races_split.to_list()\\nunique_races[1] = \\\"H\\\"\\ncats = [\\n    \\\"White Officer Involved\\\",\\n    \\\"Latino Officer Involved\\\",\\n    \\\"officer_U\\\",\\n    \\\"Black Officer Involved\\\",\\n    \\\"Asian Officer Involve\\\",\\n    \\\"Other Race Officer Involved\\\",\\n]\\n\\nofficers = []\\nfor j in range(len(races_split)):\\n    off = []\\n    for race in unique_races:\\n        if race in races_split[j]:\\n            off.append(1)\\n        else:\\n            off.append(0)\\n    officers.append(off)\\n\\n\\noff_df = pd.DataFrame(officers, columns=cats)\\n# off_df\\n\\ndf.reset_index(inplace=True)\\n\\ndf.drop(columns=[\\\"index\\\"], inplace=True)\\n# df\\n\\ndf = df.join(off_df)\\ndf.drop(columns=[\\\"OfficerRace\\\"], inplace=True)\\ndf.head(2)\";\n",
       "                var nbb_cells = Jupyter.notebook.get_cells();\n",
       "                for (var i = 0; i < nbb_cells.length; ++i) {\n",
       "                    if (nbb_cells[i].input_prompt_number == nbb_cell_id) {\n",
       "                        if (nbb_cells[i].get_text() == nbb_unformatted_code) {\n",
       "                             nbb_cells[i].set_text(nbb_formatted_code);\n",
       "                        }\n",
       "                        break;\n",
       "                    }\n",
       "                }\n",
       "            }, 500);\n",
       "            "
      ],
      "text/plain": [
       "<IPython.core.display.Javascript object>"
      ]
     },
     "metadata": {},
     "output_type": "display_data"
    }
   ],
   "source": [
    "# Transform Officer race variables into binary features\n",
    "# Indicating which races of officers were involved in the occurance\n",
    "\n",
    "\n",
    "df.OfficerRace.fillna(\"U\", inplace=True)\n",
    "races = df.OfficerRace.copy()\n",
    "races_split = races.str.split(\";\")\n",
    "unique_races = []\n",
    "for race in races_split:\n",
    "    for val in race:\n",
    "        if val == \"WHITE\":\n",
    "            val = \"W\"\n",
    "        blk = [\"BLACK\", \"Other:B\", \"W:B\"]\n",
    "        if val in blk:\n",
    "            val = \"B\"\n",
    "        api = [\"A/PI\", \"AI/AN\", \"A/PI Unknown\"]\n",
    "        if val in api:\n",
    "            val = \"A\"\n",
    "        hisp = [\"H\", \"W/H\", \"W/ H\", \"H: H\", \"H/L\"]\n",
    "        if val in hisp:\n",
    "            val = \"L\"\n",
    "        asian = [\n",
    "            \"ASIAN\",\n",
    "            \"A/W\",\n",
    "            \"W/A\",\n",
    "        ]\n",
    "        if val in asian:\n",
    "            val = \"A\"\n",
    "        uk = [\"Unknown\", \"Unknown \", \"NA\", \"U \"]\n",
    "        if val in uk:\n",
    "            val = \"U\"\n",
    "        wt = [\"W:W\", \"NA/W\"]\n",
    "        if val in wt:\n",
    "            val = \"W\"\n",
    "        oth = [\"I\", \"m/m\", \"M\", \"Multi-Racial\"]\n",
    "        if val in oth:\n",
    "            val = \"O\"\n",
    "        if val in unique_races:\n",
    "            continue\n",
    "        else:\n",
    "            unique_races.append(val)\n",
    "\n",
    "\n",
    "df[\"races_split\"] = races_split\n",
    "races_split = df.races_split.to_list()\n",
    "unique_races[1] = \"H\"\n",
    "cats = [\n",
    "    \"White Officer Involved\",\n",
    "    \"Latino Officer Involved\",\n",
    "    \"officer_U\",\n",
    "    \"Black Officer Involved\",\n",
    "    \"Asian Officer Involve\",\n",
    "    \"Other Race Officer Involved\",\n",
    "]\n",
    "\n",
    "officers = []\n",
    "for j in range(len(races_split)):\n",
    "    off = []\n",
    "    for race in unique_races:\n",
    "        if race in races_split[j]:\n",
    "            off.append(1)\n",
    "        else:\n",
    "            off.append(0)\n",
    "    officers.append(off)\n",
    "\n",
    "\n",
    "off_df = pd.DataFrame(officers, columns=cats)\n",
    "# off_df\n",
    "\n",
    "df.reset_index(inplace=True)\n",
    "\n",
    "df.drop(columns=[\"index\"], inplace=True)\n",
    "# df\n",
    "\n",
    "df = df.join(off_df)\n",
    "df.drop(columns=[\"OfficerRace\"], inplace=True)\n",
    "df.head(2)"
   ]
  },
  {
   "cell_type": "markdown",
   "metadata": {},
   "source": [
    "### Officer Gender"
   ]
  },
  {
   "cell_type": "code",
   "execution_count": 17,
   "metadata": {},
   "outputs": [
    {
     "data": {
      "text/plain": [
       "['M', 'F', 'U']"
      ]
     },
     "execution_count": 17,
     "metadata": {},
     "output_type": "execute_result"
    },
    {
     "data": {
      "application/javascript": [
       "\n",
       "            setTimeout(function() {\n",
       "                var nbb_cell_id = 17;\n",
       "                var nbb_unformatted_code = \"df.OfficerGender.fillna(\\\"U\\\", inplace=True)\\ngenders = df.OfficerGender.copy()\\ngender_split = genders.str.split(\\\";\\\")\\n\\nunique_genders = []\\nfor gender in gender_split:\\n    for val in gender:\\n        male = [\\\"M\\\", \\\"M \\\", \\\"M:M\\\", \\\"/M\\\", \\\"Male\\\", \\\"M: M\\\", \\\"MALE\\\", \\\" /M\\\"]\\n        if val in male:\\n            val = \\\"M\\\"\\n        unknwn = [\\\"Unknown\\\", \\\"N\\\", \\\"U\\\", \\\"\\\"]\\n        if val in unknwn:\\n            val = \\\"U\\\"\\n        female = [\\\"F\\\", \\\"W\\\", \\\"FEMALE\\\"]\\n        if val in female:\\n            val = \\\"F\\\"\\n        if val in unique_genders:\\n            continue\\n        else:\\n            unique_genders.append(val)\\n\\nunique_genders\";\n",
       "                var nbb_formatted_code = \"df.OfficerGender.fillna(\\\"U\\\", inplace=True)\\ngenders = df.OfficerGender.copy()\\ngender_split = genders.str.split(\\\";\\\")\\n\\nunique_genders = []\\nfor gender in gender_split:\\n    for val in gender:\\n        male = [\\\"M\\\", \\\"M \\\", \\\"M:M\\\", \\\"/M\\\", \\\"Male\\\", \\\"M: M\\\", \\\"MALE\\\", \\\" /M\\\"]\\n        if val in male:\\n            val = \\\"M\\\"\\n        unknwn = [\\\"Unknown\\\", \\\"N\\\", \\\"U\\\", \\\"\\\"]\\n        if val in unknwn:\\n            val = \\\"U\\\"\\n        female = [\\\"F\\\", \\\"W\\\", \\\"FEMALE\\\"]\\n        if val in female:\\n            val = \\\"F\\\"\\n        if val in unique_genders:\\n            continue\\n        else:\\n            unique_genders.append(val)\\n\\nunique_genders\";\n",
       "                var nbb_cells = Jupyter.notebook.get_cells();\n",
       "                for (var i = 0; i < nbb_cells.length; ++i) {\n",
       "                    if (nbb_cells[i].input_prompt_number == nbb_cell_id) {\n",
       "                        if (nbb_cells[i].get_text() == nbb_unformatted_code) {\n",
       "                             nbb_cells[i].set_text(nbb_formatted_code);\n",
       "                        }\n",
       "                        break;\n",
       "                    }\n",
       "                }\n",
       "            }, 500);\n",
       "            "
      ],
      "text/plain": [
       "<IPython.core.display.Javascript object>"
      ]
     },
     "metadata": {},
     "output_type": "display_data"
    }
   ],
   "source": [
    "# Fill null Officer gender values with U\n",
    "df.OfficerGender.fillna(\"U\", inplace=True)\n",
    "genders = df.OfficerGender.copy()\n",
    "# Since genders are values sperated by ';', have to split \n",
    "gender_split = genders.str.split(\";\")\n",
    "# Get unique genders and transforms variations of records \n",
    "# of the same genders\n",
    "unique_genders = []\n",
    "for gender in gender_split:\n",
    "    for val in gender:\n",
    "        male = [\"M\", \"M \", \"M:M\", \"/M\", \"Male\", \"M: M\", \"MALE\", \" /M\"]\n",
    "        if val in male:\n",
    "            val = \"M\"\n",
    "        unknwn = [\"Unknown\", \"N\", \"U\", \"\"]\n",
    "        if val in unknwn:\n",
    "            val = \"U\"\n",
    "        female = [\"F\", \"W\", \"FEMALE\"]\n",
    "        if val in female:\n",
    "            val = \"F\"\n",
    "        if val in unique_genders:\n",
    "            continue\n",
    "        else:\n",
    "            unique_genders.append(val)\n",
    "\n",
    "unique_genders"
   ]
  },
  {
   "cell_type": "code",
   "execution_count": 18,
   "metadata": {},
   "outputs": [
    {
     "data": {
      "application/javascript": [
       "\n",
       "            setTimeout(function() {\n",
       "                var nbb_cell_id = 18;\n",
       "                var nbb_unformatted_code = \"df[\\\"Officer Genders\\\"] = gender_split\\ngender_split = df[\\\"Officer Genders\\\"].to_list()\\ncats = [\\\"Male Officer Present\\\", \\\"Female Officer Present\\\", \\\"Unknown Officer Present\\\"]\\n\\nofficer_g = []\\nfor j in range(len(gender_split)):\\n    off_g = []\\n    for gender in unique_genders:\\n        if gender in gender_split[j]:\\n            off_g.append(1)\\n        else:\\n            off_g.append(0)\\n    officer_g.append(off_g)\\n\\n\\noff_g_df = pd.DataFrame(officer_g, columns=cats)\";\n",
       "                var nbb_formatted_code = \"df[\\\"Officer Genders\\\"] = gender_split\\ngender_split = df[\\\"Officer Genders\\\"].to_list()\\ncats = [\\\"Male Officer Present\\\", \\\"Female Officer Present\\\", \\\"Unknown Officer Present\\\"]\\n\\nofficer_g = []\\nfor j in range(len(gender_split)):\\n    off_g = []\\n    for gender in unique_genders:\\n        if gender in gender_split[j]:\\n            off_g.append(1)\\n        else:\\n            off_g.append(0)\\n    officer_g.append(off_g)\\n\\n\\noff_g_df = pd.DataFrame(officer_g, columns=cats)\";\n",
       "                var nbb_cells = Jupyter.notebook.get_cells();\n",
       "                for (var i = 0; i < nbb_cells.length; ++i) {\n",
       "                    if (nbb_cells[i].input_prompt_number == nbb_cell_id) {\n",
       "                        if (nbb_cells[i].get_text() == nbb_unformatted_code) {\n",
       "                             nbb_cells[i].set_text(nbb_formatted_code);\n",
       "                        }\n",
       "                        break;\n",
       "                    }\n",
       "                }\n",
       "            }, 500);\n",
       "            "
      ],
      "text/plain": [
       "<IPython.core.display.Javascript object>"
      ]
     },
     "metadata": {},
     "output_type": "display_data"
    }
   ],
   "source": [
    "# Create list of Officer Genders to work on\n",
    "df[\"Officer Genders\"] = gender_split\n",
    "gender_split = df[\"Officer Genders\"].to_list()\n",
    "cats = [\"Male Officer Present\", \"Female Officer Present\", \"Unknown Officer Present\"]\n",
    "\n",
    "# Create binary gender variable\n",
    "officer_g = []\n",
    "for j in range(len(gender_split)):\n",
    "    off_g = []\n",
    "    for gender in unique_genders:\n",
    "        if gender in gender_split[j]:\n",
    "            off_g.append(1)\n",
    "        else:\n",
    "            off_g.append(0)\n",
    "    officer_g.append(off_g)\n",
    "\n",
    "\n",
    "off_g_df = pd.DataFrame(officer_g, columns=cats)\n",
    "df = df.join(off_g_df)\n",
    "df = df.drop(columns=\"Unknown Officer Present\")"
   ]
  },
  {
   "cell_type": "markdown",
   "metadata": {},
   "source": [
    "### Number of Shots Fired"
   ]
  },
  {
   "cell_type": "code",
   "execution_count": 20,
   "metadata": {},
   "outputs": [
    {
     "data": {
      "application/javascript": [
       "\n",
       "            setTimeout(function() {\n",
       "                var nbb_cell_id = 20;\n",
       "                var nbb_unformatted_code = \"# df[\\\"NumberOfShots\\\"].unique()\\n\\n# Replace string values with quanfitifiable information with integer values\\ndf[\\\"NumberOfShots\\\"].replace(\\n    {\\n        \\\">/=4\\\": 4,\\n        \\\">/=8\\\": 9,\\n        \\\">/=1\\\": 1,\\n        \\\">/=2\\\": 2,\\n        \\\">/=12\\\": 12,\\n        \\\">/=3\\\": 3,\\n        \\\">/=20\\\": 20,\\n        \\\">/=5\\\": 5,\\n        \\\">4\\\": 5,\\n        \\\">2\\\": 3,\\n        \\\"1*\\\": 1,\\n        \\\">3\\\": 4,\\n        \\\"3-5\\\": 4,\\n        \\\">13\\\": 14,\\n        \\\"not clear\\\": \\\"U\\\",\\n        \\\"no information\\\": \\\"U\\\",\\n        \\\"Unknown\\\": \\\"U\\\",\\n        \\\"73 total\\\": 73,\\n        \\\"45 total \\\": 45,\\n        \\\"4-5\\\": 5,\\n        \\\"Multiple\\\": 4,\\n        \\\">1\\\": 2,\\n    },\\n    inplace=True,\\n)\";\n",
       "                var nbb_formatted_code = \"# df[\\\"NumberOfShots\\\"].unique()\\n\\n# Replace string values with quanfitifiable information with integer values\\ndf[\\\"NumberOfShots\\\"].replace(\\n    {\\n        \\\">/=4\\\": 4,\\n        \\\">/=8\\\": 9,\\n        \\\">/=1\\\": 1,\\n        \\\">/=2\\\": 2,\\n        \\\">/=12\\\": 12,\\n        \\\">/=3\\\": 3,\\n        \\\">/=20\\\": 20,\\n        \\\">/=5\\\": 5,\\n        \\\">4\\\": 5,\\n        \\\">2\\\": 3,\\n        \\\"1*\\\": 1,\\n        \\\">3\\\": 4,\\n        \\\"3-5\\\": 4,\\n        \\\">13\\\": 14,\\n        \\\"not clear\\\": \\\"U\\\",\\n        \\\"no information\\\": \\\"U\\\",\\n        \\\"Unknown\\\": \\\"U\\\",\\n        \\\"73 total\\\": 73,\\n        \\\"45 total \\\": 45,\\n        \\\"4-5\\\": 5,\\n        \\\"Multiple\\\": 4,\\n        \\\">1\\\": 2,\\n    },\\n    inplace=True,\\n)\";\n",
       "                var nbb_cells = Jupyter.notebook.get_cells();\n",
       "                for (var i = 0; i < nbb_cells.length; ++i) {\n",
       "                    if (nbb_cells[i].input_prompt_number == nbb_cell_id) {\n",
       "                        if (nbb_cells[i].get_text() == nbb_unformatted_code) {\n",
       "                             nbb_cells[i].set_text(nbb_formatted_code);\n",
       "                        }\n",
       "                        break;\n",
       "                    }\n",
       "                }\n",
       "            }, 500);\n",
       "            "
      ],
      "text/plain": [
       "<IPython.core.display.Javascript object>"
      ]
     },
     "metadata": {},
     "output_type": "display_data"
    }
   ],
   "source": [
    "# df[\"NumberOfShots\"].unique()\n",
    "\n",
    "# Replace string values with quanfitifiable information with integer values\n",
    "df[\"NumberOfShots\"].replace(\n",
    "    {\n",
    "        \">/=4\": 4,\n",
    "        \">/=8\": 9,\n",
    "        \">/=1\": 1,\n",
    "        \">/=2\": 2,\n",
    "        \">/=12\": 12,\n",
    "        \">/=3\": 3,\n",
    "        \">/=20\": 20,\n",
    "        \">/=5\": 5,\n",
    "        \">4\": 5,\n",
    "        \">2\": 3,\n",
    "        \"1*\": 1,\n",
    "        \">3\": 4,\n",
    "        \"3-5\": 4,\n",
    "        \">13\": 14,\n",
    "        \"not clear\": \"U\",\n",
    "        \"no information\": \"U\",\n",
    "        \"Unknown\": \"U\",\n",
    "        \"73 total\": 73,\n",
    "        \"45 total \": 45,\n",
    "        \"4-5\": 5,\n",
    "        \"Multiple\": 4,\n",
    "        \">1\": 2,\n",
    "    },\n",
    "    inplace=True,\n",
    ")"
   ]
  },
  {
   "cell_type": "code",
   "execution_count": 21,
   "metadata": {},
   "outputs": [
    {
     "data": {
      "application/javascript": [
       "\n",
       "            setTimeout(function() {\n",
       "                var nbb_cell_id = 21;\n",
       "                var nbb_unformatted_code = \"# Fill Na's with \\\"U\\\"\\ndf[\\\"NumberOfShots\\\"].fillna(\\\"U\\\")\\n# Create Total Shots Variable\\ndf[\\\"Total_shots\\\"] = pd.to_numeric(df[\\\"NumberOfShots\\\"], errors=\\\"ignore\\\")\\ndf[\\\"Total_shots\\\"].fillna(\\\"U\\\", inplace=True)\\n\\n# Seperate values with multiple officers involved that have ';' in description\\nmult_shots = df[df.Total_shots.str.contains(\\\";\\\") == True]\\n\\n# Sum up all of the shots of eah officer\\nshots = []\\nfor value in mult_shots[\\\"NumberOfShots\\\"]:\\n    nums = value.split(\\\";\\\")\\n    nums = pd.to_numeric(nums)\\n    nums = nums.sum()\\n    shots.append(nums)\\n\\n\\n# replace multiple officer rows with summed values\\ndf.loc[df.Total_shots.str.contains(\\\";\\\") == True, \\\"Total_shots\\\"] = shots\\n\\n# Drop Number of Shots variable\\ndf = df.drop(columns=\\\"NumberOfShots\\\")\";\n",
       "                var nbb_formatted_code = \"# Fill Na's with \\\"U\\\"\\ndf[\\\"NumberOfShots\\\"].fillna(\\\"U\\\")\\n# Create Total Shots Variable\\ndf[\\\"Total_shots\\\"] = pd.to_numeric(df[\\\"NumberOfShots\\\"], errors=\\\"ignore\\\")\\ndf[\\\"Total_shots\\\"].fillna(\\\"U\\\", inplace=True)\\n\\n# Seperate values with multiple officers involved that have ';' in description\\nmult_shots = df[df.Total_shots.str.contains(\\\";\\\") == True]\\n\\n# Sum up all of the shots of eah officer\\nshots = []\\nfor value in mult_shots[\\\"NumberOfShots\\\"]:\\n    nums = value.split(\\\";\\\")\\n    nums = pd.to_numeric(nums)\\n    nums = nums.sum()\\n    shots.append(nums)\\n\\n\\n# replace multiple officer rows with summed values\\ndf.loc[df.Total_shots.str.contains(\\\";\\\") == True, \\\"Total_shots\\\"] = shots\\n\\n# Drop Number of Shots variable\\ndf = df.drop(columns=\\\"NumberOfShots\\\")\";\n",
       "                var nbb_cells = Jupyter.notebook.get_cells();\n",
       "                for (var i = 0; i < nbb_cells.length; ++i) {\n",
       "                    if (nbb_cells[i].input_prompt_number == nbb_cell_id) {\n",
       "                        if (nbb_cells[i].get_text() == nbb_unformatted_code) {\n",
       "                             nbb_cells[i].set_text(nbb_formatted_code);\n",
       "                        }\n",
       "                        break;\n",
       "                    }\n",
       "                }\n",
       "            }, 500);\n",
       "            "
      ],
      "text/plain": [
       "<IPython.core.display.Javascript object>"
      ]
     },
     "metadata": {},
     "output_type": "display_data"
    }
   ],
   "source": [
    "# Fill Na's with \"U\"\n",
    "df[\"NumberOfShots\"].fillna(\"U\")\n",
    "# Create Total Shots Variable\n",
    "df[\"Total_shots\"] = pd.to_numeric(df[\"NumberOfShots\"], errors=\"ignore\")\n",
    "df[\"Total_shots\"].fillna(\"U\", inplace=True)\n",
    "\n",
    "# Seperate values with multiple officers involved that have ';' in description\n",
    "mult_shots = df[df.Total_shots.str.contains(\";\") == True]\n",
    "\n",
    "# Sum up all of the shots of eah officer\n",
    "shots = []\n",
    "for value in mult_shots[\"NumberOfShots\"]:\n",
    "    nums = value.split(\";\")\n",
    "    nums = pd.to_numeric(nums)\n",
    "    nums = nums.sum()\n",
    "    shots.append(nums)\n",
    "\n",
    "\n",
    "# replace multiple officer rows with summed values\n",
    "df.loc[df.Total_shots.str.contains(\";\") == True, \"Total_shots\"] = shots\n",
    "\n",
    "# Drop Number of Shots variable\n",
    "df = df.drop(columns=\"NumberOfShots\")"
   ]
  },
  {
   "cell_type": "code",
   "execution_count": 22,
   "metadata": {
    "run_control": {
     "marked": false
    }
   },
   "outputs": [
    {
     "data": {
      "application/javascript": [
       "\n",
       "            setTimeout(function() {\n",
       "                var nbb_cell_id = 22;\n",
       "                var nbb_unformatted_code = \"# Since there are so many Unknown values in shots fired,\\n# but I think there is value in that information, creating seperate\\n# Dataframe with that as the null subset and dropping from main DF\\nshots_df = df.copy()\\nno_shots_df = df.copy()\";\n",
       "                var nbb_formatted_code = \"# Since there are so many Unknown values in shots fired,\\n# but I think there is value in that information, creating seperate\\n# Dataframe with that as the null subset and dropping from main DF\\nshots_df = df.copy()\\nno_shots_df = df.copy()\";\n",
       "                var nbb_cells = Jupyter.notebook.get_cells();\n",
       "                for (var i = 0; i < nbb_cells.length; ++i) {\n",
       "                    if (nbb_cells[i].input_prompt_number == nbb_cell_id) {\n",
       "                        if (nbb_cells[i].get_text() == nbb_unformatted_code) {\n",
       "                             nbb_cells[i].set_text(nbb_formatted_code);\n",
       "                        }\n",
       "                        break;\n",
       "                    }\n",
       "                }\n",
       "            }, 500);\n",
       "            "
      ],
      "text/plain": [
       "<IPython.core.display.Javascript object>"
      ]
     },
     "metadata": {},
     "output_type": "display_data"
    }
   ],
   "source": [
    "# Since there are so many Unknown values in shots fired,\n",
    "# but I think there is value in that information, creating seperate\n",
    "# Dataframe with that as the null subset and dropping from main DF\n",
    "shots_df = df.copy()\n",
    "no_shots_df = df.copy()"
   ]
  },
  {
   "cell_type": "markdown",
   "metadata": {},
   "source": [
    "### Interesting Findings"
   ]
  },
  {
   "cell_type": "code",
   "execution_count": 27,
   "metadata": {
    "run_control": {
     "marked": false
    },
    "scrolled": true
   },
   "outputs": [
    {
     "data": {
      "application/javascript": [
       "\n",
       "            setTimeout(function() {\n",
       "                var nbb_cell_id = 27;\n",
       "                var nbb_unformatted_code = \"subject_armed_df = df.copy()\\nunknown_unarmed = subject_armed_df[subject_armed_df[\\\"SubjectArmed\\\"] == \\\"U\\\"].index\\nsubject_armed_df = subject_armed_df.drop(unknown_unarmed, axis=0)\";\n",
       "                var nbb_formatted_code = \"subject_armed_df = df.copy()\\nunknown_unarmed = subject_armed_df[subject_armed_df[\\\"SubjectArmed\\\"] == \\\"U\\\"].index\\nsubject_armed_df = subject_armed_df.drop(unknown_unarmed, axis=0)\";\n",
       "                var nbb_cells = Jupyter.notebook.get_cells();\n",
       "                for (var i = 0; i < nbb_cells.length; ++i) {\n",
       "                    if (nbb_cells[i].input_prompt_number == nbb_cell_id) {\n",
       "                        if (nbb_cells[i].get_text() == nbb_unformatted_code) {\n",
       "                             nbb_cells[i].set_text(nbb_formatted_code);\n",
       "                        }\n",
       "                        break;\n",
       "                    }\n",
       "                }\n",
       "            }, 500);\n",
       "            "
      ],
      "text/plain": [
       "<IPython.core.display.Javascript object>"
      ]
     },
     "metadata": {},
     "output_type": "display_data"
    }
   ],
   "source": [
    "subject_armed_df = df.copy()\n",
    "unknown_unarmed = subject_armed_df[subject_armed_df[\"SubjectArmed\"] == \"U\"].index\n",
    "subject_armed_df = subject_armed_df.drop(unknown_unarmed, axis=0)"
   ]
  },
  {
   "cell_type": "code",
   "execution_count": 28,
   "metadata": {},
   "outputs": [
    {
     "data": {
      "image/png": "[encoded data removed]",
      "text/plain": [
       "<Figure size 432x288 with 1 Axes>"
      ]
     },
     "metadata": {
      "needs_background": "light"
     },
     "output_type": "display_data"
    },
    {
     "data": {
      "application/javascript": [
       "\n",
       "            setTimeout(function() {\n",
       "                var nbb_cell_id = 28;\n",
       "                var nbb_unformatted_code = \"sns.countplot(x=subject_armed_df[\\\"Fatal\\\"], hue=subject_armed_df[\\\"SubjectArmed\\\"])\\nplt.show()\";\n",
       "                var nbb_formatted_code = \"sns.countplot(x=subject_armed_df[\\\"Fatal\\\"], hue=subject_armed_df[\\\"SubjectArmed\\\"])\\nplt.show()\";\n",
       "                var nbb_cells = Jupyter.notebook.get_cells();\n",
       "                for (var i = 0; i < nbb_cells.length; ++i) {\n",
       "                    if (nbb_cells[i].input_prompt_number == nbb_cell_id) {\n",
       "                        if (nbb_cells[i].get_text() == nbb_unformatted_code) {\n",
       "                             nbb_cells[i].set_text(nbb_formatted_code);\n",
       "                        }\n",
       "                        break;\n",
       "                    }\n",
       "                }\n",
       "            }, 500);\n",
       "            "
      ],
      "text/plain": [
       "<IPython.core.display.Javascript object>"
      ]
     },
     "metadata": {},
     "output_type": "display_data"
    }
   ],
   "source": [
    "sns.countplot(x=subject_armed_df[\"Fatal\"], hue=subject_armed_df[\"SubjectArmed\"])\n",
    "plt.show()"
   ]
  },
  {
   "cell_type": "markdown",
   "metadata": {},
   "source": [
    "## Shots DF"
   ]
  },
  {
   "cell_type": "code",
   "execution_count": null,
   "metadata": {},
   "outputs": [],
   "source": [
    "# Find and drop Unkown number of shots\n",
    "unknown_shots = shots_df[shots_df[\"Total_shots\"] == \"U\"].index\n",
    "shots_df = shots_df.drop(unknown_shots)"
   ]
  },
  {
   "cell_type": "code",
   "execution_count": null,
   "metadata": {},
   "outputs": [],
   "source": [
    "# Convert Subject age to numbers\n",
    "shots_df[\"SubjectAge\"] = pd.to_numeric(shots_df[\"SubjectAge\"], errors=\"coerce\")\n",
    "\n",
    "# Fill Na's with mean age\n",
    "mean_age = round(shots_df[\"SubjectAge\"].mean(), 0)\n",
    "shots_df[\"SubjectAge\"].fillna(mean_age, inplace=True)"
   ]
  },
  {
   "cell_type": "code",
   "execution_count": null,
   "metadata": {},
   "outputs": [],
   "source": [
    "# Convert Total Shots to numeric\n",
    "shots_df[\"Total_shots\"] = pd.to_numeric(shots_df[\"Total_shots\"])"
   ]
  },
  {
   "cell_type": "code",
   "execution_count": null,
   "metadata": {},
   "outputs": [],
   "source": [
    "# Convert Fatal column to numeric\n",
    "shots_df[\"Fatal\"] = shots_df[\"Fatal\"].replace({\"N\": 0, \"F\": 1})"
   ]
  },
  {
   "cell_type": "code",
   "execution_count": null,
   "metadata": {},
   "outputs": [],
   "source": [
    "# Change values to numeric, classifying 'U' the same as\n",
    "# 'N' because if they dont know if the subject was armed\n",
    "# Then for our purposes this is the same as the subject not\n",
    "# being armed\n",
    "shots_df[\"SubjectArmed\"].replace({\"N\": 0, \"Y\": 1, \"U\": 0}, inplace=True)"
   ]
  },
  {
   "cell_type": "code",
   "execution_count": null,
   "metadata": {},
   "outputs": [],
   "source": [
    "# Find the one missing value for Number of Officers\n",
    "missing_officer_num = shots_df[shots_df[\"NumberOfOfficers\"].isna()].index"
   ]
  },
  {
   "cell_type": "code",
   "execution_count": null,
   "metadata": {},
   "outputs": [],
   "source": [
    "# Drop that value, since there is a lot of other missing info\n",
    "# From that row\n",
    "shots_df.drop(missing_officer_num, inplace=True)"
   ]
  },
  {
   "cell_type": "code",
   "execution_count": null,
   "metadata": {},
   "outputs": [],
   "source": [
    "# shots_df[shots_df[\"NumberOfOfficers\"] == \"U\"]\n",
    "shots_df[\"NumberOfOfficers\"].replace(\"U\", 1, inplace=True)"
   ]
  },
  {
   "cell_type": "code",
   "execution_count": null,
   "metadata": {},
   "outputs": [],
   "source": [
    "# Convert Number of Officers to numeric\n",
    "shots_df[\"NumberOfOfficers\"] = pd.to_numeric(shots_df[\"NumberOfOfficers\"])"
   ]
  },
  {
   "cell_type": "code",
   "execution_count": null,
   "metadata": {},
   "outputs": [],
   "source": [
    "# Convert age to log for normalization\n",
    "shots_df[\"log_SubjectAge\"] = np.log(shots_df[\"SubjectAge\"])"
   ]
  },
  {
   "cell_type": "code",
   "execution_count": null,
   "metadata": {},
   "outputs": [],
   "source": [
    "# Drop columns that are not of interest\n",
    "shots_df = shots_df.drop(\n",
    "    columns=[\n",
    "        \"Month\",\n",
    "        \"officer_U\",\n",
    "        \"Other Race Officer Involved\",\n",
    "        \"Female Officer Present\",\n",
    "        \"races_split\",\n",
    "        \"Officer Genders\",\n",
    "        \"Year\",\n",
    "        \"Department\",\n",
    "        \"SubjectAge\",\n",
    "        \"City\",\n",
    "        \"OfficerGender\",\n",
    "    ]\n",
    ")"
   ]
  },
  {
   "cell_type": "code",
   "execution_count": null,
   "metadata": {},
   "outputs": [],
   "source": [
    "# Creating Interaction variable for instances where there is a White Officer and Black Suspect\n",
    "\n",
    "shots_df[\"W_officer_B_Subject\"] = 0\n",
    "\n",
    "shots_df.loc[\n",
    "    (shots_df[\"White Officer Involved\"] == 1) & (shots_df[\"SubjectRace\"] == \"B\"),\n",
    "    \"W_officer_B_Subject\",\n",
    "] = 1"
   ]
  },
  {
   "cell_type": "markdown",
   "metadata": {},
   "source": [
    "## No Shots DF"
   ]
  },
  {
   "cell_type": "code",
   "execution_count": null,
   "metadata": {},
   "outputs": [],
   "source": [
    "# Drop Total Shots from this DataFrame\n",
    "no_shots_df = no_shots_df.drop(columns=\"Total_shots\")"
   ]
  },
  {
   "cell_type": "code",
   "execution_count": null,
   "metadata": {
    "run_control": {
     "marked": false
    }
   },
   "outputs": [],
   "source": [
    "# Convert Target variable to binary numeric\n",
    "no_shots_df[\"Fatal\"].replace(\n",
    "    {\n",
    "        \"N\": 0,\n",
    "        \"F\": 1,\n",
    "    },\n",
    "    inplace=True,\n",
    ")"
   ]
  },
  {
   "cell_type": "code",
   "execution_count": null,
   "metadata": {},
   "outputs": [],
   "source": [
    "# no_shots_df[no_shots_df[\"NumberOfOfficers\"] == \"U\"]\n",
    "no_shots_df[\"NumberOfOfficers\"].replace({\"U\": 1}, inplace=True)\n",
    "\n",
    "no_shots_df[\"NumberOfOfficers\"] = pd.to_numeric(no_shots_df[\"NumberOfOfficers\"])"
   ]
  },
  {
   "cell_type": "code",
   "execution_count": null,
   "metadata": {},
   "outputs": [],
   "source": [
    "no_shots_df = no_shots_df.drop(columns=\"OfficerGender\")"
   ]
  },
  {
   "cell_type": "code",
   "execution_count": null,
   "metadata": {},
   "outputs": [],
   "source": [
    "no_shots_df[\"SubjectAge\"] = pd.to_numeric(no_shots_df[\"SubjectAge\"], errors=\"coerce\")\n",
    "\n",
    "# Fill Na's with mean subject age\n",
    "\n",
    "mean_age = round(no_shots_df[\"SubjectAge\"].mean(), 0)\n",
    "no_shots_df[\"SubjectAge\"].fillna(mean_age, inplace=True)"
   ]
  },
  {
   "cell_type": "code",
   "execution_count": null,
   "metadata": {},
   "outputs": [],
   "source": [
    "# Drop remaining NA's\n",
    "no_shots_df = no_shots_df.dropna()"
   ]
  },
  {
   "cell_type": "code",
   "execution_count": null,
   "metadata": {
    "run_control": {
     "marked": false
    }
   },
   "outputs": [],
   "source": [
    "# Fatality Count Plot\n",
    "sns.countplot(x=no_shots_df[\"Fatal\"])\n",
    "plt.show()"
   ]
  },
  {
   "cell_type": "code",
   "execution_count": null,
   "metadata": {},
   "outputs": [],
   "source": [
    "# Fatality by Subject Age\n",
    "sns.boxplot(x=no_shots_df[\"Fatal\"], y=no_shots_df[\"SubjectAge\"], data=no_shots_df)\n",
    "plt.show()"
   ]
  },
  {
   "cell_type": "code",
   "execution_count": null,
   "metadata": {},
   "outputs": [],
   "source": [
    "# create Log Subject age for Normalization\n",
    "no_shots_df[\"log_SubjectAge\"] = np.log(no_shots_df[\"SubjectAge\"])"
   ]
  },
  {
   "cell_type": "code",
   "execution_count": null,
   "metadata": {},
   "outputs": [],
   "source": [
    "# Histogram of Log Subject age\n",
    "no_shots_df[\"log_SubjectAge\"].hist()\n",
    "plt.show()"
   ]
  },
  {
   "cell_type": "code",
   "execution_count": null,
   "metadata": {},
   "outputs": [],
   "source": [
    "# Box Plots of Fatality and Number of officers\n",
    "sns.boxplot(x=no_shots_df[\"Fatal\"], y=no_shots_df[\"NumberOfOfficers\"], data=no_shots_df)\n",
    "plt.show()"
   ]
  },
  {
   "cell_type": "code",
   "execution_count": null,
   "metadata": {
    "run_control": {
     "marked": false
    }
   },
   "outputs": [],
   "source": [
    "# Number of officers histogram\n",
    "no_shots_df[\"NumberOfOfficers\"].hist()\n",
    "plt.show()"
   ]
  },
  {
   "cell_type": "code",
   "execution_count": null,
   "metadata": {},
   "outputs": [],
   "source": [
    "# Monthly Fatalities\n",
    "sns.countplot(x=\"Month\", hue=\"Fatal\", data=no_shots_df)\n",
    "plt.show()"
   ]
  },
  {
   "cell_type": "code",
   "execution_count": null,
   "metadata": {},
   "outputs": [],
   "source": [
    "# Drop columns that are not of interest\n",
    "drop_cols = [\n",
    "    \"Department\",\n",
    "    \"City\",\n",
    "    \"Year\",\n",
    "    \"Month\",\n",
    "    \"races_split\",\n",
    "    \"officer_U\",\n",
    "    \"Officer Genders\",\n",
    "]\n",
    "\n",
    "no_shots_df = no_shots_df.drop(columns=drop_cols)"
   ]
  },
  {
   "cell_type": "markdown",
   "metadata": {
    "run_control": {
     "marked": false
    }
   },
   "source": [
    "## Models"
   ]
  },
  {
   "cell_type": "markdown",
   "metadata": {},
   "source": [
    "### Model Prep"
   ]
  },
  {
   "cell_type": "code",
   "execution_count": null,
   "metadata": {},
   "outputs": [],
   "source": [
    "# shots_df.info()"
   ]
  },
  {
   "cell_type": "code",
   "execution_count": null,
   "metadata": {
    "run_control": {
     "marked": false
    }
   },
   "outputs": [],
   "source": [
    "# Reset and drop index\n",
    "shots_df.reset_index(drop=True, inplace=True)\n",
    "shots_df.info()"
   ]
  },
  {
   "cell_type": "code",
   "execution_count": null,
   "metadata": {},
   "outputs": [],
   "source": [
    "# Manually get dummies for categorical variables and drop\n",
    "# Original columns\n",
    "shots_df = shots_df.join(pd.get_dummies(shots_df[[\"SubjectRace\", \"SubjectGender\"]]))\n",
    "shots_df = shots_df.drop(\n",
    "    columns=[\"SubjectRace\", \"SubjectGender\", \"SubjectRace_U\", \"SubjectGender_U\"]\n",
    ")"
   ]
  },
  {
   "cell_type": "code",
   "execution_count": null,
   "metadata": {},
   "outputs": [],
   "source": [
    "# Sort features \n",
    "bin_cols = [\n",
    "    \"SubjectGender\",\n",
    "    \"SubjectArmed\",\n",
    "    \"White Officer Involved\",\n",
    "    \"Latino Officer Involved\",\n",
    "    \"Black Officer Involved\",\n",
    "    \"Asian Officer Involve\",\n",
    "    \"Male Officer Present\",\n",
    "]\n",
    "\n",
    "num_cols = [\"log_SubjectAge\", \"NumberOfOfficers\", \"Total_shots\"]\n",
    "\n",
    "cat_cols = [\"SubjectRace\", \"SubjectGender\"]\n",
    "drop_cats = [\"U\", \"U\"]"
   ]
  },
  {
   "cell_type": "code",
   "execution_count": null,
   "metadata": {},
   "outputs": [],
   "source": [
    "# Print VIF and inspect for multicolinearity. Dropped\n",
    "# Variables that had value of 8 or higher\n",
    "print_vif(shots_df)"
   ]
  },
  {
   "cell_type": "code",
   "execution_count": null,
   "metadata": {},
   "outputs": [],
   "source": [
    "# Set Target and independant variables\n",
    "X = shots_df.drop(columns=\"Fatal\")\n",
    "y = shots_df[\"Fatal\"]\n",
    "\n",
    "# Train, Test, Split data\n",
    "\n",
    "X_train, X_test, y_train, y_test = train_test_split(\n",
    "    X, y, test_size=0.2, random_state=2, stratify=y\n",
    ")"
   ]
  },
  {
   "cell_type": "markdown",
   "metadata": {},
   "source": [
    "### SVM"
   ]
  },
  {
   "cell_type": "code",
   "execution_count": null,
   "metadata": {},
   "outputs": [],
   "source": [
    "# Create Preprocessing\n",
    "preprocessing = ColumnTransformer(\n",
    "    [\n",
    "        #        (\"encode_cats\", OneHotEncoder(drop=drop_cats), cat_cols),\n",
    "        (\"scale\", StandardScaler(), num_cols),\n",
    "    ],\n",
    "    remainder=\"passthrough\",\n",
    ")"
   ]
  },
  {
   "cell_type": "code",
   "execution_count": null,
   "metadata": {},
   "outputs": [],
   "source": [
    "# Create SVC Pipeline\n",
    "pipeline = Pipeline(\n",
    "    [\n",
    "        (\"preprocessing\", preprocessing),\n",
    "        (\"model\", SVC()),\n",
    "    ]\n",
    ")"
   ]
  },
  {
   "cell_type": "code",
   "execution_count": null,
   "metadata": {},
   "outputs": [],
   "source": [
    "# Create Grid, run models, close in on best parameters\n",
    "grid = {\n",
    "    #    \"model__C\": [0.1, 1, 10, 100, 1000],\n",
    "    #    \"model__C\": np.arange(0.1, 0.5, 0.1),\n",
    "    \"model__C\": np.arange(0.1, 0.5, 0.1),\n",
    "    #    \"model__kernel\": [\"rbf\", \"linear\", \"poly\"],\n",
    "    \"model__kernel\": [\"rbf\"],\n",
    "}"
   ]
  },
  {
   "cell_type": "code",
   "execution_count": null,
   "metadata": {},
   "outputs": [],
   "source": [
    "# Perform Gridsearch\n",
    "pipeline_cv = GridSearchCV(pipeline, grid, verbose=2, n_jobs=-1)"
   ]
  },
  {
   "cell_type": "code",
   "execution_count": null,
   "metadata": {
    "run_control": {
     "marked": false
    }
   },
   "outputs": [],
   "source": [
    "pipeline_cv.fit(X_train, y_train)"
   ]
  },
  {
   "cell_type": "code",
   "execution_count": null,
   "metadata": {
    "run_control": {
     "marked": false
    }
   },
   "outputs": [],
   "source": [
    "# Print SVC Scores\n",
    "shots_svm_train_score = pipeline_cv.score(X_train, y_train)\n",
    "shots_svm_test_score = pipeline_cv.score(X_test, y_test)\n",
    "\n",
    "print(shots_svm_train_score, shots_svm_test_score)"
   ]
  },
  {
   "cell_type": "code",
   "execution_count": null,
   "metadata": {},
   "outputs": [],
   "source": [
    "#Find best parameters, then edit grid to close in on best\n",
    "# Overall parameters\n",
    "best_params = pipeline_cv.best_params_\n",
    "best_params"
   ]
  },
  {
   "cell_type": "code",
   "execution_count": null,
   "metadata": {
    "run_control": {
     "marked": false
    }
   },
   "outputs": [],
   "source": [
    "# Make predictions\n",
    "y_pred = pipeline_cv.predict(X_test)"
   ]
  },
  {
   "cell_type": "code",
   "execution_count": null,
   "metadata": {},
   "outputs": [],
   "source": [
    "# Create Confusion Matrix\n",
    "confusion_mat = confusion_matrix(y_test, y_pred)\n",
    "confusion_df = pd.DataFrame(\n",
    "    confusion_mat,\n",
    "    index=[\"actual_fatal\", \"actual_not_fatal\"],\n",
    "    columns=[\"pred_fatal\", \"pred_not_fatal\"],\n",
    ")\n",
    "\n",
    "confusion_df"
   ]
  },
  {
   "cell_type": "markdown",
   "metadata": {},
   "source": [
    "### Random Forest"
   ]
  },
  {
   "cell_type": "code",
   "execution_count": null,
   "metadata": {
    "scrolled": true
   },
   "outputs": [],
   "source": [
    "# Isolate target variables and independant features, \n",
    "# Perform Train, test, split\n",
    "X = shots_df.drop(columns=\"Fatal\")\n",
    "y = shots_df[\"Fatal\"]\n",
    "\n",
    "X_train, X_test, y_train, y_test = train_test_split(X, y, test_size=0.2, random_state=2)"
   ]
  },
  {
   "cell_type": "code",
   "execution_count": null,
   "metadata": {},
   "outputs": [],
   "source": [
    "# Set preprocessing\n",
    "preprocessing = ColumnTransformer(\n",
    "    [\n",
    "        #        (\"encode_cats\", OneHotEncoder(drop=drop_cats), cat_cols),\n",
    "        (\"scale\", StandardScaler(), num_cols),\n",
    "    ],\n",
    "    remainder=\"passthrough\",\n",
    ")"
   ]
  },
  {
   "cell_type": "code",
   "execution_count": null,
   "metadata": {
    "run_control": {
     "marked": false
    }
   },
   "outputs": [],
   "source": [
    "#Create Random Forest pipeline\n",
    "pipeline = Pipeline(\n",
    "    [\n",
    "        (\"preprocessing\", preprocessing),\n",
    "        (\"model\", RandomForestClassifier()),\n",
    "    ]\n",
    ")"
   ]
  },
  {
   "cell_type": "code",
   "execution_count": null,
   "metadata": {},
   "outputs": [],
   "source": [
    "# Fit and score initial Random Forest Model\n",
    "pipeline.fit(X_train, y_train)\n",
    "\n",
    "model_0_train_score = pipeline.score(X_train, y_train)\n",
    "model_0_test_score = pipeline.score(X_test, y_test)\n",
    "\n",
    "print(model_0_train_score, model_0_test_score)"
   ]
  },
  {
   "cell_type": "code",
   "execution_count": null,
   "metadata": {},
   "outputs": [],
   "source": [
    "# Create grid, close in on best parameters\n",
    "grid = {\n",
    "    #    \"model__n_estimators\": [50, 100, 1000],\n",
    "    \"model__n_estimators\": [50],\n",
    "    #    \"model__max_depth\": [10, 50, 100, 500],\n",
    "    \"model__max_depth\": [10],\n",
    "    #    \"model__min_samples_leaf\": [5, 10, 50, 100, 500],\n",
    "    \"model__min_samples_leaf\": [4],\n",
    "}"
   ]
  },
  {
   "cell_type": "code",
   "execution_count": null,
   "metadata": {},
   "outputs": [],
   "source": [
    "# Perform grid Search\n",
    "pipeline_cv = GridSearchCV(pipeline, grid, cv=5, verbose=2, n_jobs=-1)\n",
    "pipeline_cv.fit(X_train, y_train)"
   ]
  },
  {
   "cell_type": "code",
   "execution_count": null,
   "metadata": {},
   "outputs": [],
   "source": [
    "# Find best parameters, then go back and edit grid to \n",
    "# close in on best parameters\n",
    "best_params = pipeline_cv.best_params_\n",
    "best_params"
   ]
  },
  {
   "cell_type": "code",
   "execution_count": null,
   "metadata": {},
   "outputs": [],
   "source": [
    "# Print Random Forest Train and test scores\n",
    "rfc_train_score = pipeline_cv.score(X_train, y_train)\n",
    "rfc_test_score = pipeline_cv.score(X_test, y_test)\n",
    "\n",
    "print(rfc_train_score, rfc_test_score)"
   ]
  },
  {
   "cell_type": "code",
   "execution_count": null,
   "metadata": {},
   "outputs": [],
   "source": [
    "# Make predictions, then make confusion matrix \n",
    "y_pred = pipeline_cv.predict(X_test)\n",
    "\n",
    "confusion_mat = confusion_matrix(y_test, y_pred)\n",
    "confusion_df = pd.DataFrame(\n",
    "    confusion_mat,\n",
    "    index=[\"actual_fatal\", \"actual_not_fatal\"],\n",
    "    columns=[\"pred_fatal\", \"pred_not_fatal\"],\n",
    ")\n",
    "\n",
    "confusion_df"
   ]
  },
  {
   "cell_type": "code",
   "execution_count": null,
   "metadata": {},
   "outputs": [],
   "source": [
    "# Create and Print Feature importances\n",
    "feature_importances = pipeline_cv.best_estimator_[\"model\"].feature_importances_\n",
    "feature_importances = pd.DataFrame(\n",
    "    {\"feature\": X_train.columns, \"importance\": feature_importances}\n",
    ").sort_values(\"importance\", ascending=False)\n",
    "feature_importances"
   ]
  },
  {
   "cell_type": "markdown",
   "metadata": {},
   "source": [
    "### XGBoost"
   ]
  },
  {
   "cell_type": "code",
   "execution_count": null,
   "metadata": {},
   "outputs": [],
   "source": [
    "# Create Pipeline, using same train, test, split as \n",
    "# previous models\n",
    "pipeline = Pipeline(\n",
    "    [\n",
    "        (\"preprocessing\", preprocessing),\n",
    "        (\"model\", XGBClassifier()),\n",
    "    ]\n",
    ")"
   ]
  },
  {
   "cell_type": "code",
   "execution_count": null,
   "metadata": {
    "run_control": {
     "marked": false
    }
   },
   "outputs": [],
   "source": [
    "# Create Grid, run model until close in on best params,\n",
    "# Commented out previous attempts\n",
    "grid = {\n",
    "    #    \"model__n_estimators\": np.arange(1, 3),\n",
    "    #    \"model__n_estimators\": [1, 5, 10],\n",
    "    \"model__n_estimators\": [1],\n",
    "    #    \"model__learning_rate\": np.arange(0, 50, 10),\n",
    "    \"model__learning_rate\": [10],\n",
    "    #    \"model__colsample_bytree\": np.arange(0.7, 1, 0.1),\n",
    "    \"model__colsample_bytree\": [0.79],\n",
    "    #    \"model__max_depth\": np.arange(4, 7),\n",
    "    \"model__max_depth\": [6],\n",
    "}"
   ]
  },
  {
   "cell_type": "code",
   "execution_count": null,
   "metadata": {
    "run_control": {
     "marked": false
    }
   },
   "outputs": [],
   "source": [
    "# Perform Grid Search\n",
    "pipeline_cv = GridSearchCV(pipeline, grid, cv=5, verbose=2, n_jobs=-1)\n",
    "pipeline_cv.fit(X_train, y_train)"
   ]
  },
  {
   "cell_type": "code",
   "execution_count": null,
   "metadata": {},
   "outputs": [],
   "source": [
    "# Find best perameters, edit grid ^\n",
    "best_params = pipeline_cv.best_params_\n",
    "best_params"
   ]
  },
  {
   "cell_type": "code",
   "execution_count": null,
   "metadata": {},
   "outputs": [],
   "source": [
    "# Calculate and print XGB scores\n",
    "xgb_train_score = pipeline_cv.score(X_train, y_train)\n",
    "xgb_test_score = pipeline_cv.score(X_test, y_test)\n",
    "\n",
    "print(xgb_train_score, xgb_test_score)"
   ]
  },
  {
   "cell_type": "code",
   "execution_count": null,
   "metadata": {},
   "outputs": [],
   "source": [
    "# Determine feature important and convert to Dataframe\n",
    "feature_importances = pipeline_cv.best_estimator_[\"model\"].feature_importances_\n",
    "feature_importances = pd.DataFrame(\n",
    "    {\"feature\": X_train.columns, \"importance\": feature_importances}\n",
    ").sort_values(\"importance\", ascending=False)\n",
    "feature_importances"
   ]
  },
  {
   "cell_type": "code",
   "execution_count": null,
   "metadata": {},
   "outputs": [],
   "source": [
    "# Run Predictions and make DataFrame\n",
    "y_preds = pipeline_cv.predict(X_test)\n",
    "preds_df, fig = predictions_df(X_test, y_test, y_preds)\n",
    "\n",
    "# Create A Confusion Matrix and Classification Report\n",
    "cm = confusion_matrix(y_test, y_preds)\n",
    "display(cm)\n",
    "\n",
    "cr = classification_report(y_test, y_preds)\n",
    "print(cr)\n",
    "\n",
    "\n",
    "pred_prob = pipeline_cv.predict_proba(X_test)\n",
    "# add prediction probs to preds_df\n",
    "preds_df[\"pred_prob\"] = pred_prob[:, 1]\n",
    "\n",
    "preds_df = preds_df.drop(columns=[\"residuals\", \"abs_residuals\"])\n",
    "# preds_df.head()"
   ]
  },
  {
   "cell_type": "code",
   "execution_count": null,
   "metadata": {},
   "outputs": [],
   "source": [
    "# Calculate Calibration Curve\n",
    "prob_true, prob_pred = calibration_curve(y_test, pred_prob[:, 1], n_bins=10)\n",
    "plt.plot(prob_pred, prob_true, \"-o\")\n",
    "plt.show()"
   ]
  },
  {
   "cell_type": "markdown",
   "metadata": {},
   "source": [
    "### Logistic Regression "
   ]
  },
  {
   "cell_type": "code",
   "execution_count": null,
   "metadata": {
    "run_control": {
     "marked": false
    }
   },
   "outputs": [],
   "source": [
    "# Run train, test split for Logistic Regression model\n",
    "X = shots_df.drop(columns=\"Fatal\")\n",
    "y = shots_df[\"Fatal\"]\n",
    "\n",
    "X_train, X_test, y_train, y_test = train_test_split(X, y, test_size=0.2, random_state=2)"
   ]
  },
  {
   "cell_type": "code",
   "execution_count": null,
   "metadata": {},
   "outputs": [],
   "source": [
    "# Create Pipeline\n",
    "pipeline = Pipeline(\n",
    "    [\n",
    "        (\"preprocessing\", preprocessing),\n",
    "        (\"model\", LogisticRegression()),\n",
    "    ]\n",
    ")"
   ]
  },
  {
   "cell_type": "code",
   "execution_count": null,
   "metadata": {
    "run_control": {
     "marked": false
    }
   },
   "outputs": [],
   "source": [
    "# Create grid\n",
    "grid = {\n",
    "    #    \"model__C\": [0.1, 1, 5, 10],\n",
    "    \"model__C\": [1, 1.5, 2, 2.5],\n",
    "    #    \"model__solver\": [\"newton-cg\", \"lbfgs\", \"sag\", \"saga\"],\n",
    "    \"model__solver\": [\"newton-cg\"],\n",
    "}"
   ]
  },
  {
   "cell_type": "code",
   "execution_count": null,
   "metadata": {},
   "outputs": [],
   "source": [
    "# Fit pipeline\n",
    "pipeline_cv = GridSearchCV(pipeline, grid, cv=5, verbose=2, n_jobs=-1)\n",
    "pipeline_cv.fit(X_train, y_train)"
   ]
  },
  {
   "cell_type": "code",
   "execution_count": null,
   "metadata": {},
   "outputs": [],
   "source": [
    "# Find and print train and test score for Logistic Regression\n",
    "lr_train_score = pipeline_cv.score(X_train, y_train)\n",
    "lr_test_score = pipeline_cv.score(X_test, y_test)\n",
    "\n",
    "print(lr_train_score, lr_test_score)"
   ]
  },
  {
   "cell_type": "code",
   "execution_count": null,
   "metadata": {},
   "outputs": [],
   "source": [
    "# Determine best parameters\n",
    "best_params = pipeline_cv.best_params_\n",
    "best_params"
   ]
  },
  {
   "cell_type": "code",
   "execution_count": null,
   "metadata": {
    "run_control": {
     "marked": false
    }
   },
   "outputs": [],
   "source": [
    "# Predict proababilty \n",
    "pred_prob = pipeline_cv.predict_proba(X_test)\n",
    "\n",
    "# Create and print calibration curve\n",
    "prob_true, prob_pred = calibration_curve(y_test, pred_prob[:, 1], n_bins=10)\n",
    "plt.plot(prob_pred, prob_true, \"-o\")\n",
    "plt.show()"
   ]
  },
  {
   "cell_type": "code",
   "execution_count": null,
   "metadata": {
    "run_control": {
     "marked": false
    }
   },
   "outputs": [],
   "source": [
    "# Make predictions\n",
    "preds = pipeline_cv.predict(X_test)\n",
    "\n",
    "# create Predictions DataFrame\n",
    "preds_df, _ = predictions_df(X_test, y_test, preds)\n",
    "preds_df[\"pred_prob\"] = pred_prob[:, 1]\n",
    "preds_df = preds_df.drop(columns=[\"residuals\", \"abs_residuals\"])\n",
    "\n",
    "# Create and Print Confusion Matrix/ Classification Report\n",
    "cm = confusion_matrix(y_test, preds)\n",
    "display(cm)\n",
    "\n",
    "print(classification_report(y_test, preds))"
   ]
  }
 ],
 "metadata": {
  "kernelspec": {
   "display_name": "Python 3",
   "language": "python",
   "name": "python3"
  },
  "language_info": {
   "codemirror_mode": {
    "name": "ipython",
    "version": 3
   },
   "file_extension": ".py",
   "mimetype": "text/x-python",
   "name": "python",
   "nbconvert_exporter": "python",
   "pygments_lexer": "ipython3",
   "version": "3.8.3"
  },
  "toc": {
   "base_numbering": 1,
   "nav_menu": {},
   "number_sections": true,
   "sideBar": true,
   "skip_h1_title": false,
   "title_cell": "Table of Contents",
   "title_sidebar": "Contents",
   "toc_cell": false,
   "toc_position": {},
   "toc_section_display": true,
   "toc_window_display": false
  }
 },
 "nbformat": 4,
 "nbformat_minor": 4
}
