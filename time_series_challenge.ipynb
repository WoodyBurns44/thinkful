{
 "cells": [
  {
   "cell_type": "code",
   "execution_count": 1,
   "metadata": {},
   "outputs": [
    {
     "data": {
      "application/javascript": [
       "\n",
       "            setTimeout(function() {\n",
       "                var nbb_cell_id = 1;\n",
       "                var nbb_unformatted_code = \"%reload_ext nb_black\";\n",
       "                var nbb_formatted_code = \"%reload_ext nb_black\";\n",
       "                var nbb_cells = Jupyter.notebook.get_cells();\n",
       "                for (var i = 0; i < nbb_cells.length; ++i) {\n",
       "                    if (nbb_cells[i].input_prompt_number == nbb_cell_id) {\n",
       "                        if (nbb_cells[i].get_text() == nbb_unformatted_code) {\n",
       "                             nbb_cells[i].set_text(nbb_formatted_code);\n",
       "                        }\n",
       "                        break;\n",
       "                    }\n",
       "                }\n",
       "            }, 500);\n",
       "            "
      ],
      "text/plain": [
       "<IPython.core.display.Javascript object>"
      ]
     },
     "metadata": {},
     "output_type": "display_data"
    }
   ],
   "source": [
    "%reload_ext nb_black"
   ]
  },
  {
   "cell_type": "code",
   "execution_count": 42,
   "metadata": {},
   "outputs": [
    {
     "data": {
      "application/javascript": [
       "\n",
       "            setTimeout(function() {\n",
       "                var nbb_cell_id = 42;\n",
       "                var nbb_unformatted_code = \"# Imports\\n\\nimport numpy as np\\nimport pandas as pd\\nimport scipy\\nimport seaborn as sns\\nfrom datetime import datetime\\nimport datetime as dt\\nimport matplotlib.pyplot as plt\\n\\nfrom statsmodels.tsa.stattools import pacf\\nfrom statsmodels.tsa.arima_model import ARIMA\\n\\n%matplotlib inline\";\n",
       "                var nbb_formatted_code = \"# Imports\\n\\nimport numpy as np\\nimport pandas as pd\\nimport scipy\\nimport seaborn as sns\\nfrom datetime import datetime\\nimport datetime as dt\\nimport matplotlib.pyplot as plt\\n\\nfrom statsmodels.tsa.stattools import pacf\\nfrom statsmodels.tsa.arima_model import ARIMA\\n\\n%matplotlib inline\";\n",
       "                var nbb_cells = Jupyter.notebook.get_cells();\n",
       "                for (var i = 0; i < nbb_cells.length; ++i) {\n",
       "                    if (nbb_cells[i].input_prompt_number == nbb_cell_id) {\n",
       "                        if (nbb_cells[i].get_text() == nbb_unformatted_code) {\n",
       "                             nbb_cells[i].set_text(nbb_formatted_code);\n",
       "                        }\n",
       "                        break;\n",
       "                    }\n",
       "                }\n",
       "            }, 500);\n",
       "            "
      ],
      "text/plain": [
       "<IPython.core.display.Javascript object>"
      ]
     },
     "metadata": {},
     "output_type": "display_data"
    }
   ],
   "source": [
    "# Imports\n",
    "\n",
    "import numpy as np\n",
    "import pandas as pd\n",
    "import scipy\n",
    "import seaborn as sns\n",
    "from datetime import datetime\n",
    "import datetime as dt\n",
    "import matplotlib.pyplot as plt\n",
    "\n",
    "from statsmodels.tsa.stattools import pacf\n",
    "from statsmodels.tsa.arima_model import ARIMA\n",
    "\n",
    "%matplotlib inline"
   ]
  },
  {
   "cell_type": "code",
   "execution_count": 16,
   "metadata": {},
   "outputs": [
    {
     "data": {
      "text/html": [
       "<div>\n",
       "<style scoped>\n",
       "    .dataframe tbody tr th:only-of-type {\n",
       "        vertical-align: middle;\n",
       "    }\n",
       "\n",
       "    .dataframe tbody tr th {\n",
       "        vertical-align: top;\n",
       "    }\n",
       "\n",
       "    .dataframe thead th {\n",
       "        text-align: right;\n",
       "    }\n",
       "</style>\n",
       "<table border=\"1\" class=\"dataframe\">\n",
       "  <thead>\n",
       "    <tr style=\"text-align: right;\">\n",
       "      <th></th>\n",
       "      <th>DATE</th>\n",
       "      <th>UNRATE</th>\n",
       "    </tr>\n",
       "  </thead>\n",
       "  <tbody>\n",
       "    <tr>\n",
       "      <th>0</th>\n",
       "      <td>2011-01-01</td>\n",
       "      <td>9.1</td>\n",
       "    </tr>\n",
       "    <tr>\n",
       "      <th>1</th>\n",
       "      <td>2011-02-01</td>\n",
       "      <td>9.0</td>\n",
       "    </tr>\n",
       "    <tr>\n",
       "      <th>2</th>\n",
       "      <td>2011-03-01</td>\n",
       "      <td>9.0</td>\n",
       "    </tr>\n",
       "    <tr>\n",
       "      <th>3</th>\n",
       "      <td>2011-04-01</td>\n",
       "      <td>9.1</td>\n",
       "    </tr>\n",
       "    <tr>\n",
       "      <th>4</th>\n",
       "      <td>2011-05-01</td>\n",
       "      <td>9.0</td>\n",
       "    </tr>\n",
       "  </tbody>\n",
       "</table>\n",
       "</div>"
      ],
      "text/plain": [
       "         DATE  UNRATE\n",
       "0  2011-01-01     9.1\n",
       "1  2011-02-01     9.0\n",
       "2  2011-03-01     9.0\n",
       "3  2011-04-01     9.1\n",
       "4  2011-05-01     9.0"
      ]
     },
     "execution_count": 16,
     "metadata": {},
     "output_type": "execute_result"
    },
    {
     "data": {
      "application/javascript": [
       "\n",
       "            setTimeout(function() {\n",
       "                var nbb_cell_id = 16;\n",
       "                var nbb_unformatted_code = \"url = \\\"UNRATE.csv\\\"\\n\\ndf = pd.read_csv(url)\\n\\ndf.head()\";\n",
       "                var nbb_formatted_code = \"url = \\\"UNRATE.csv\\\"\\n\\ndf = pd.read_csv(url)\\n\\ndf.head()\";\n",
       "                var nbb_cells = Jupyter.notebook.get_cells();\n",
       "                for (var i = 0; i < nbb_cells.length; ++i) {\n",
       "                    if (nbb_cells[i].input_prompt_number == nbb_cell_id) {\n",
       "                        if (nbb_cells[i].get_text() == nbb_unformatted_code) {\n",
       "                             nbb_cells[i].set_text(nbb_formatted_code);\n",
       "                        }\n",
       "                        break;\n",
       "                    }\n",
       "                }\n",
       "            }, 500);\n",
       "            "
      ],
      "text/plain": [
       "<IPython.core.display.Javascript object>"
      ]
     },
     "metadata": {},
     "output_type": "display_data"
    }
   ],
   "source": [
    "url = \"UNRATE.csv\"\n",
    "\n",
    "df = pd.read_csv(url)\n",
    "\n",
    "df.head()"
   ]
  },
  {
   "cell_type": "code",
   "execution_count": 19,
   "metadata": {},
   "outputs": [
    {
     "data": {
      "application/javascript": [
       "\n",
       "            setTimeout(function() {\n",
       "                var nbb_cell_id = 19;\n",
       "                var nbb_unformatted_code = \"df['Date'] = pd.to_datetime(df['DATE']) \";\n",
       "                var nbb_formatted_code = \"df[\\\"Date\\\"] = pd.to_datetime(df[\\\"DATE\\\"])\";\n",
       "                var nbb_cells = Jupyter.notebook.get_cells();\n",
       "                for (var i = 0; i < nbb_cells.length; ++i) {\n",
       "                    if (nbb_cells[i].input_prompt_number == nbb_cell_id) {\n",
       "                        if (nbb_cells[i].get_text() == nbb_unformatted_code) {\n",
       "                             nbb_cells[i].set_text(nbb_formatted_code);\n",
       "                        }\n",
       "                        break;\n",
       "                    }\n",
       "                }\n",
       "            }, 500);\n",
       "            "
      ],
      "text/plain": [
       "<IPython.core.display.Javascript object>"
      ]
     },
     "metadata": {},
     "output_type": "display_data"
    }
   ],
   "source": [
    "# Create new variable that Converts DATE column to datetime\n",
    "df[\"Date\"] = pd.to_datetime(df[\"DATE\"])"
   ]
  },
  {
   "cell_type": "code",
   "execution_count": 21,
   "metadata": {},
   "outputs": [
    {
     "data": {
      "application/javascript": [
       "\n",
       "            setTimeout(function() {\n",
       "                var nbb_cell_id = 21;\n",
       "                var nbb_unformatted_code = \"df = df.drop(columns='DATE')\";\n",
       "                var nbb_formatted_code = \"df = df.drop(columns=\\\"DATE\\\")\";\n",
       "                var nbb_cells = Jupyter.notebook.get_cells();\n",
       "                for (var i = 0; i < nbb_cells.length; ++i) {\n",
       "                    if (nbb_cells[i].input_prompt_number == nbb_cell_id) {\n",
       "                        if (nbb_cells[i].get_text() == nbb_unformatted_code) {\n",
       "                             nbb_cells[i].set_text(nbb_formatted_code);\n",
       "                        }\n",
       "                        break;\n",
       "                    }\n",
       "                }\n",
       "            }, 500);\n",
       "            "
      ],
      "text/plain": [
       "<IPython.core.display.Javascript object>"
      ]
     },
     "metadata": {},
     "output_type": "display_data"
    }
   ],
   "source": [
    "# Drop original DATE column\n",
    "df = df.drop(columns=\"DATE\")"
   ]
  },
  {
   "cell_type": "code",
   "execution_count": 22,
   "metadata": {},
   "outputs": [
    {
     "data": {
      "text/plain": [
       "UNRATE    0\n",
       "Date      0\n",
       "dtype: int64"
      ]
     },
     "execution_count": 22,
     "metadata": {},
     "output_type": "execute_result"
    },
    {
     "data": {
      "application/javascript": [
       "\n",
       "            setTimeout(function() {\n",
       "                var nbb_cell_id = 22;\n",
       "                var nbb_unformatted_code = \"df.isna().sum()\";\n",
       "                var nbb_formatted_code = \"df.isna().sum()\";\n",
       "                var nbb_cells = Jupyter.notebook.get_cells();\n",
       "                for (var i = 0; i < nbb_cells.length; ++i) {\n",
       "                    if (nbb_cells[i].input_prompt_number == nbb_cell_id) {\n",
       "                        if (nbb_cells[i].get_text() == nbb_unformatted_code) {\n",
       "                             nbb_cells[i].set_text(nbb_formatted_code);\n",
       "                        }\n",
       "                        break;\n",
       "                    }\n",
       "                }\n",
       "            }, 500);\n",
       "            "
      ],
      "text/plain": [
       "<IPython.core.display.Javascript object>"
      ]
     },
     "metadata": {},
     "output_type": "display_data"
    }
   ],
   "source": [
    "# Check for NA's\n",
    "df.isna().sum()"
   ]
  },
  {
   "cell_type": "code",
   "execution_count": 27,
   "metadata": {},
   "outputs": [
    {
     "name": "stdout",
     "output_type": "stream",
     "text": [
      "<class 'pandas.core.frame.DataFrame'>\n",
      "RangeIndex: 121 entries, 0 to 120\n",
      "Data columns (total 2 columns):\n",
      " #   Column  Non-Null Count  Dtype         \n",
      "---  ------  --------------  -----         \n",
      " 0   UNRATE  121 non-null    float64       \n",
      " 1   Date    121 non-null    datetime64[ns]\n",
      "dtypes: datetime64[ns](1), float64(1)\n",
      "memory usage: 2.0 KB\n"
     ]
    },
    {
     "data": {
      "application/javascript": [
       "\n",
       "            setTimeout(function() {\n",
       "                var nbb_cell_id = 27;\n",
       "                var nbb_unformatted_code = \"df.info()\";\n",
       "                var nbb_formatted_code = \"df.info()\";\n",
       "                var nbb_cells = Jupyter.notebook.get_cells();\n",
       "                for (var i = 0; i < nbb_cells.length; ++i) {\n",
       "                    if (nbb_cells[i].input_prompt_number == nbb_cell_id) {\n",
       "                        if (nbb_cells[i].get_text() == nbb_unformatted_code) {\n",
       "                             nbb_cells[i].set_text(nbb_formatted_code);\n",
       "                        }\n",
       "                        break;\n",
       "                    }\n",
       "                }\n",
       "            }, 500);\n",
       "            "
      ],
      "text/plain": [
       "<IPython.core.display.Javascript object>"
      ]
     },
     "metadata": {},
     "output_type": "display_data"
    }
   ],
   "source": [
    "df.info()"
   ]
  },
  {
   "cell_type": "code",
   "execution_count": 28,
   "metadata": {},
   "outputs": [
    {
     "data": {
      "application/javascript": [
       "\n",
       "            setTimeout(function() {\n",
       "                var nbb_cell_id = 28;\n",
       "                var nbb_unformatted_code = \"df.dropna(inplace=True)\";\n",
       "                var nbb_formatted_code = \"df.dropna(inplace=True)\";\n",
       "                var nbb_cells = Jupyter.notebook.get_cells();\n",
       "                for (var i = 0; i < nbb_cells.length; ++i) {\n",
       "                    if (nbb_cells[i].input_prompt_number == nbb_cell_id) {\n",
       "                        if (nbb_cells[i].get_text() == nbb_unformatted_code) {\n",
       "                             nbb_cells[i].set_text(nbb_formatted_code);\n",
       "                        }\n",
       "                        break;\n",
       "                    }\n",
       "                }\n",
       "            }, 500);\n",
       "            "
      ],
      "text/plain": [
       "<IPython.core.display.Javascript object>"
      ]
     },
     "metadata": {},
     "output_type": "display_data"
    }
   ],
   "source": [
    "df.dropna(inplace=True)"
   ]
  },
  {
   "cell_type": "markdown",
   "metadata": {},
   "source": [
    "Plot the time series, along with any logical or necessary differences to get a stationary dataset.\n"
   ]
  },
  {
   "cell_type": "code",
   "execution_count": 36,
   "metadata": {
    "scrolled": true
   },
   "outputs": [
    {
     "data": {
      "image/png": "[encoded data removed]",
      "text/plain": [
       "<Figure size 432x288 with 1 Axes>"
      ]
     },
     "metadata": {
      "needs_background": "light"
     },
     "output_type": "display_data"
    },
    {
     "data": {
      "application/javascript": [
       "\n",
       "            setTimeout(function() {\n",
       "                var nbb_cell_id = 36;\n",
       "                var nbb_unformatted_code = \"sns.lineplot(x=df[\\\"Date\\\"], y=df[\\\"UNRATE\\\"])\\nplt.title('Unemployment Rate over Time')\\nplt.show()\";\n",
       "                var nbb_formatted_code = \"sns.lineplot(x=df[\\\"Date\\\"], y=df[\\\"UNRATE\\\"])\\nplt.title(\\\"Unemployment Rate over Time\\\")\\nplt.show()\";\n",
       "                var nbb_cells = Jupyter.notebook.get_cells();\n",
       "                for (var i = 0; i < nbb_cells.length; ++i) {\n",
       "                    if (nbb_cells[i].input_prompt_number == nbb_cell_id) {\n",
       "                        if (nbb_cells[i].get_text() == nbb_unformatted_code) {\n",
       "                             nbb_cells[i].set_text(nbb_formatted_code);\n",
       "                        }\n",
       "                        break;\n",
       "                    }\n",
       "                }\n",
       "            }, 500);\n",
       "            "
      ],
      "text/plain": [
       "<IPython.core.display.Javascript object>"
      ]
     },
     "metadata": {},
     "output_type": "display_data"
    }
   ],
   "source": [
    "sns.lineplot(x=df[\"Date\"], y=df[\"UNRATE\"])\n",
    "plt.title(\"Unemployment Rate over Time\")\n",
    "plt.show()"
   ]
  },
  {
   "cell_type": "markdown",
   "metadata": {},
   "source": [
    "Based on the plot, it appears that at times the unemployment rate appears to be linear, however, with the dramatic uptick in the rate in 2020, it is obviously stochastic. "
   ]
  },
  {
   "cell_type": "code",
   "execution_count": 38,
   "metadata": {},
   "outputs": [
    {
     "data": {
      "image/png": "[encoded data removed]",
      "text/plain": [
       "<Figure size 432x288 with 1 Axes>"
      ]
     },
     "metadata": {
      "needs_background": "light"
     },
     "output_type": "display_data"
    },
    {
     "data": {
      "application/javascript": [
       "\n",
       "            setTimeout(function() {\n",
       "                var nbb_cell_id = 38;\n",
       "                var nbb_unformatted_code = \"df[\\\"diff_1\\\"] = df.UNRATE - df.UNRATE.shift()\\ndf.plot(y=\\\"diff_1\\\")\\nplt.title(\\\"Unemployment Rate Time Series - Stationary\\\")\\nplt.show()\";\n",
       "                var nbb_formatted_code = \"df[\\\"diff_1\\\"] = df.UNRATE - df.UNRATE.shift()\\ndf.plot(y=\\\"diff_1\\\")\\nplt.title(\\\"Unemployment Rate Time Series - Stationary\\\")\\nplt.show()\";\n",
       "                var nbb_cells = Jupyter.notebook.get_cells();\n",
       "                for (var i = 0; i < nbb_cells.length; ++i) {\n",
       "                    if (nbb_cells[i].input_prompt_number == nbb_cell_id) {\n",
       "                        if (nbb_cells[i].get_text() == nbb_unformatted_code) {\n",
       "                             nbb_cells[i].set_text(nbb_formatted_code);\n",
       "                        }\n",
       "                        break;\n",
       "                    }\n",
       "                }\n",
       "            }, 500);\n",
       "            "
      ],
      "text/plain": [
       "<IPython.core.display.Javascript object>"
      ]
     },
     "metadata": {},
     "output_type": "display_data"
    }
   ],
   "source": [
    "df[\"diff_1\"] = df.UNRATE - df.UNRATE.shift()\n",
    "df.plot(y=\"diff_1\")\n",
    "plt.title(\"Unemployment Rate Time Series - Stationary\")\n",
    "plt.show()"
   ]
  },
  {
   "cell_type": "markdown",
   "metadata": {},
   "source": [
    "Generate and interpret a PACF for the time series (and/or its differences).\n"
   ]
  },
  {
   "cell_type": "code",
   "execution_count": 40,
   "metadata": {},
   "outputs": [
    {
     "data": {
      "text/plain": [
       "Text(0.5, 1.0, 'Unemployment PACF')"
      ]
     },
     "execution_count": 40,
     "metadata": {},
     "output_type": "execute_result"
    },
    {
     "data": {
      "image/png": "[encoded data removed]",
      "text/plain": [
       "<Figure size 432x288 with 1 Axes>"
      ]
     },
     "metadata": {
      "needs_background": "light"
     },
     "output_type": "display_data"
    },
    {
     "data": {
      "application/javascript": [
       "\n",
       "            setTimeout(function() {\n",
       "                var nbb_cell_id = 40;\n",
       "                var nbb_unformatted_code = \"x_acf = pd.DataFrame(pacf(df.UNRATE))\\nx_acf.plot(kind='bar')\\nplt.title(\\\"Unemployment PACF\\\")\";\n",
       "                var nbb_formatted_code = \"x_acf = pd.DataFrame(pacf(df.UNRATE))\\nx_acf.plot(kind=\\\"bar\\\")\\nplt.title(\\\"Unemployment PACF\\\")\";\n",
       "                var nbb_cells = Jupyter.notebook.get_cells();\n",
       "                for (var i = 0; i < nbb_cells.length; ++i) {\n",
       "                    if (nbb_cells[i].input_prompt_number == nbb_cell_id) {\n",
       "                        if (nbb_cells[i].get_text() == nbb_unformatted_code) {\n",
       "                             nbb_cells[i].set_text(nbb_formatted_code);\n",
       "                        }\n",
       "                        break;\n",
       "                    }\n",
       "                }\n",
       "            }, 500);\n",
       "            "
      ],
      "text/plain": [
       "<IPython.core.display.Javascript object>"
      ]
     },
     "metadata": {},
     "output_type": "display_data"
    }
   ],
   "source": [
    "x_acf = pd.DataFrame(pacf(df.UNRATE))\n",
    "x_acf.plot(kind=\"bar\")\n",
    "plt.title(\"Unemployment PACF\")"
   ]
  },
  {
   "cell_type": "code",
   "execution_count": 41,
   "metadata": {},
   "outputs": [
    {
     "data": {
      "text/plain": [
       "<matplotlib.legend.Legend at 0x7ffc642b84f0>"
      ]
     },
     "execution_count": 41,
     "metadata": {},
     "output_type": "execute_result"
    },
    {
     "data": {
      "image/png": "[encoded data removed]",
      "text/plain": [
       "<Figure size 432x288 with 1 Axes>"
      ]
     },
     "metadata": {
      "needs_background": "light"
     },
     "output_type": "display_data"
    },
    {
     "data": {
      "application/javascript": [
       "\n",
       "            setTimeout(function() {\n",
       "                var nbb_cell_id = 41;\n",
       "                var nbb_unformatted_code = \"x_acf = pd.DataFrame(pacf(df.diff_1[1:]))\\nx_acf.plot(kind='bar')\\nplt.title(\\\"Unemployment Diff PACF\\\")\\nplt.legend(['difference'])\";\n",
       "                var nbb_formatted_code = \"x_acf = pd.DataFrame(pacf(df.diff_1[1:]))\\nx_acf.plot(kind=\\\"bar\\\")\\nplt.title(\\\"Unemployment Diff PACF\\\")\\nplt.legend([\\\"difference\\\"])\";\n",
       "                var nbb_cells = Jupyter.notebook.get_cells();\n",
       "                for (var i = 0; i < nbb_cells.length; ++i) {\n",
       "                    if (nbb_cells[i].input_prompt_number == nbb_cell_id) {\n",
       "                        if (nbb_cells[i].get_text() == nbb_unformatted_code) {\n",
       "                             nbb_cells[i].set_text(nbb_formatted_code);\n",
       "                        }\n",
       "                        break;\n",
       "                    }\n",
       "                }\n",
       "            }, 500);\n",
       "            "
      ],
      "text/plain": [
       "<IPython.core.display.Javascript object>"
      ]
     },
     "metadata": {},
     "output_type": "display_data"
    }
   ],
   "source": [
    "x_acf = pd.DataFrame(pacf(df.diff_1[1:]))\n",
    "x_acf.plot(kind=\"bar\")\n",
    "plt.title(\"Unemployment Diff PACF\")\n",
    "plt.legend([\"difference\"])"
   ]
  },
  {
   "cell_type": "markdown",
   "metadata": {},
   "source": [
    "Generate five ARIMA specifications and evaluate their efficacy at modeling your data.\n"
   ]
  },
  {
   "cell_type": "code",
   "execution_count": 43,
   "metadata": {},
   "outputs": [
    {
     "name": "stdout",
     "output_type": "stream",
     "text": [
      "                             ARIMA Model Results                              \n",
      "==============================================================================\n",
      "Dep. Variable:               D.UNRATE   No. Observations:                  120\n",
      "Model:                 ARIMA(0, 1, 0)   Log Likelihood                -172.014\n",
      "Method:                           css   S.D. of innovations              1.015\n",
      "Date:                Mon, 15 Feb 2021   AIC                            348.029\n",
      "Time:                        20:48:54   BIC                            353.604\n",
      "Sample:                             1   HQIC                           350.293\n",
      "                                                                              \n",
      "==============================================================================\n",
      "                 coef    std err          z      P>|z|      [0.025      0.975]\n",
      "------------------------------------------------------------------------------\n",
      "const         -0.0233      0.093     -0.252      0.801      -0.205       0.158\n",
      "==============================================================================\n",
      "Residuals Description\n",
      "count    1.200000e+02\n",
      "mean     9.755459e-09\n",
      "std      1.018875e+00\n",
      "min     -2.176667e+00\n",
      "25%     -1.766667e-01\n",
      "50%     -7.666666e-02\n",
      "75%      4.833334e-02\n",
      "max      1.042333e+01\n",
      "dtype: float64\n"
     ]
    },
    {
     "data": {
      "application/javascript": [
       "\n",
       "            setTimeout(function() {\n",
       "                var nbb_cell_id = 43;\n",
       "                var nbb_unformatted_code = \"model = ARIMA(df.UNRATE, order=(0,1,0))\\nmodel_fit = model.fit()\\nprint(model_fit.summary())\\nprint('Residuals Description')\\nprint(model_fit.resid.describe())\";\n",
       "                var nbb_formatted_code = \"model = ARIMA(df.UNRATE, order=(0, 1, 0))\\nmodel_fit = model.fit()\\nprint(model_fit.summary())\\nprint(\\\"Residuals Description\\\")\\nprint(model_fit.resid.describe())\";\n",
       "                var nbb_cells = Jupyter.notebook.get_cells();\n",
       "                for (var i = 0; i < nbb_cells.length; ++i) {\n",
       "                    if (nbb_cells[i].input_prompt_number == nbb_cell_id) {\n",
       "                        if (nbb_cells[i].get_text() == nbb_unformatted_code) {\n",
       "                             nbb_cells[i].set_text(nbb_formatted_code);\n",
       "                        }\n",
       "                        break;\n",
       "                    }\n",
       "                }\n",
       "            }, 500);\n",
       "            "
      ],
      "text/plain": [
       "<IPython.core.display.Javascript object>"
      ]
     },
     "metadata": {},
     "output_type": "display_data"
    }
   ],
   "source": [
    "model = ARIMA(df.UNRATE, order=(0, 1, 0))\n",
    "model_fit = model.fit()\n",
    "print(model_fit.summary())\n",
    "print(\"Residuals Description\")\n",
    "print(model_fit.resid.describe())"
   ]
  },
  {
   "cell_type": "code",
   "execution_count": 44,
   "metadata": {},
   "outputs": [
    {
     "name": "stdout",
     "output_type": "stream",
     "text": [
      "                              ARMA Model Results                              \n",
      "==============================================================================\n",
      "Dep. Variable:                 UNRATE   No. Observations:                  121\n",
      "Model:                     ARMA(1, 0)   Log Likelihood                -170.727\n",
      "Method:                       css-mle   S.D. of innovations              0.986\n",
      "Date:                Mon, 15 Feb 2021   AIC                            347.453\n",
      "Time:                        20:48:57   BIC                            355.841\n",
      "Sample:                             0   HQIC                           350.860\n",
      "                                                                              \n",
      "================================================================================\n",
      "                   coef    std err          z      P>|z|      [0.025      0.975]\n",
      "--------------------------------------------------------------------------------\n",
      "const            6.2607      0.753      8.310      0.000       4.784       7.737\n",
      "ar.L1.UNRATE     0.8877      0.041     21.765      0.000       0.808       0.968\n",
      "                                    Roots                                    \n",
      "=============================================================================\n",
      "                  Real          Imaginary           Modulus         Frequency\n",
      "-----------------------------------------------------------------------------\n",
      "AR.1            1.1265           +0.0000j            1.1265            0.0000\n",
      "-----------------------------------------------------------------------------\n",
      "Residuals Description\n",
      "count    121.000000\n",
      "mean      -0.020829\n",
      "std        1.015991\n",
      "min       -1.409400\n",
      "25%       -0.298837\n",
      "50%       -0.142681\n",
      "75%        0.085191\n",
      "max       10.191013\n",
      "dtype: float64\n"
     ]
    },
    {
     "data": {
      "application/javascript": [
       "\n",
       "            setTimeout(function() {\n",
       "                var nbb_cell_id = 44;\n",
       "                var nbb_unformatted_code = \"model = ARIMA(df.UNRATE, order=(1,0,0))\\nmodel_fit = model.fit()\\nprint(model_fit.summary())\\nprint('Residuals Description')\\nprint(model_fit.resid.describe())\";\n",
       "                var nbb_formatted_code = \"model = ARIMA(df.UNRATE, order=(1, 0, 0))\\nmodel_fit = model.fit()\\nprint(model_fit.summary())\\nprint(\\\"Residuals Description\\\")\\nprint(model_fit.resid.describe())\";\n",
       "                var nbb_cells = Jupyter.notebook.get_cells();\n",
       "                for (var i = 0; i < nbb_cells.length; ++i) {\n",
       "                    if (nbb_cells[i].input_prompt_number == nbb_cell_id) {\n",
       "                        if (nbb_cells[i].get_text() == nbb_unformatted_code) {\n",
       "                             nbb_cells[i].set_text(nbb_formatted_code);\n",
       "                        }\n",
       "                        break;\n",
       "                    }\n",
       "                }\n",
       "            }, 500);\n",
       "            "
      ],
      "text/plain": [
       "<IPython.core.display.Javascript object>"
      ]
     },
     "metadata": {},
     "output_type": "display_data"
    }
   ],
   "source": [
    "model = ARIMA(df.UNRATE, order=(1, 0, 0))\n",
    "model_fit = model.fit()\n",
    "print(model_fit.summary())\n",
    "print(\"Residuals Description\")\n",
    "print(model_fit.resid.describe())"
   ]
  },
  {
   "cell_type": "code",
   "execution_count": 45,
   "metadata": {},
   "outputs": [
    {
     "name": "stdout",
     "output_type": "stream",
     "text": [
      "                              ARMA Model Results                              \n",
      "==============================================================================\n",
      "Dep. Variable:                 UNRATE   No. Observations:                  121\n",
      "Model:                     ARMA(1, 1)   Log Likelihood                -170.281\n",
      "Method:                       css-mle   S.D. of innovations              0.982\n",
      "Date:                Mon, 15 Feb 2021   AIC                            348.562\n",
      "Time:                        20:48:58   BIC                            359.745\n",
      "Sample:                             0   HQIC                           353.104\n",
      "                                                                              \n",
      "================================================================================\n",
      "                   coef    std err          z      P>|z|      [0.025      0.975]\n",
      "--------------------------------------------------------------------------------\n",
      "const            6.2294      0.698      8.919      0.000       4.860       7.598\n",
      "ar.L1.UNRATE     0.8652      0.051     16.810      0.000       0.764       0.966\n",
      "ma.L1.UNRATE     0.1054      0.111      0.950      0.342      -0.112       0.323\n",
      "                                    Roots                                    \n",
      "=============================================================================\n",
      "                  Real          Imaginary           Modulus         Frequency\n",
      "-----------------------------------------------------------------------------\n",
      "AR.1            1.1558           +0.0000j            1.1558            0.0000\n",
      "MA.1           -9.4870           +0.0000j            9.4870            0.5000\n",
      "-----------------------------------------------------------------------------\n",
      "Residuals Description\n",
      "count    121.000000\n",
      "mean      -0.017126\n",
      "std        1.013085\n",
      "min       -1.408881\n",
      "25%       -0.306446\n",
      "50%       -0.141538\n",
      "75%        0.104225\n",
      "max       10.093764\n",
      "dtype: float64\n"
     ]
    },
    {
     "data": {
      "application/javascript": [
       "\n",
       "            setTimeout(function() {\n",
       "                var nbb_cell_id = 45;\n",
       "                var nbb_unformatted_code = \"model = ARIMA(df.UNRATE, order=(1,0,1))\\nmodel_fit = model.fit(disp=0)\\nprint(model_fit.summary())\\nprint('Residuals Description')\\nprint(model_fit.resid.describe())\";\n",
       "                var nbb_formatted_code = \"model = ARIMA(df.UNRATE, order=(1, 0, 1))\\nmodel_fit = model.fit(disp=0)\\nprint(model_fit.summary())\\nprint(\\\"Residuals Description\\\")\\nprint(model_fit.resid.describe())\";\n",
       "                var nbb_cells = Jupyter.notebook.get_cells();\n",
       "                for (var i = 0; i < nbb_cells.length; ++i) {\n",
       "                    if (nbb_cells[i].input_prompt_number == nbb_cell_id) {\n",
       "                        if (nbb_cells[i].get_text() == nbb_unformatted_code) {\n",
       "                             nbb_cells[i].set_text(nbb_formatted_code);\n",
       "                        }\n",
       "                        break;\n",
       "                    }\n",
       "                }\n",
       "            }, 500);\n",
       "            "
      ],
      "text/plain": [
       "<IPython.core.display.Javascript object>"
      ]
     },
     "metadata": {},
     "output_type": "display_data"
    }
   ],
   "source": [
    "model = ARIMA(df.UNRATE, order=(1, 0, 1))\n",
    "model_fit = model.fit(disp=0)\n",
    "print(model_fit.summary())\n",
    "print(\"Residuals Description\")\n",
    "print(model_fit.resid.describe())"
   ]
  },
  {
   "cell_type": "code",
   "execution_count": 46,
   "metadata": {},
   "outputs": [
    {
     "name": "stdout",
     "output_type": "stream",
     "text": [
      "                             ARIMA Model Results                              \n",
      "==============================================================================\n",
      "Dep. Variable:               D.UNRATE   No. Observations:                  120\n",
      "Model:                 ARIMA(1, 1, 1)   Log Likelihood                -171.425\n",
      "Method:                       css-mle   S.D. of innovations              1.010\n",
      "Date:                Mon, 15 Feb 2021   AIC                            350.850\n",
      "Time:                        20:48:59   BIC                            362.000\n",
      "Sample:                             1   HQIC                           355.378\n",
      "                                                                              \n",
      "==================================================================================\n",
      "                     coef    std err          z      P>|z|      [0.025      0.975]\n",
      "----------------------------------------------------------------------------------\n",
      "const             -0.0236      0.096     -0.246      0.806      -0.212       0.164\n",
      "ar.L1.D.UNRATE    -0.7125      0.318     -2.239      0.025      -1.336      -0.089\n",
      "ma.L1.D.UNRATE     0.7820      0.281      2.779      0.005       0.231       1.333\n",
      "                                    Roots                                    \n",
      "=============================================================================\n",
      "                  Real          Imaginary           Modulus         Frequency\n",
      "-----------------------------------------------------------------------------\n",
      "AR.1           -1.4035           +0.0000j            1.4035            0.5000\n",
      "MA.1           -1.2788           +0.0000j            1.2788            0.5000\n",
      "-----------------------------------------------------------------------------\n",
      "Residuals Description\n",
      "count    120.000000\n",
      "mean      -0.000032\n",
      "std        1.013779\n",
      "min       -2.158494\n",
      "25%       -0.159367\n",
      "50%       -0.043355\n",
      "75%        0.081781\n",
      "max       10.369460\n",
      "dtype: float64\n"
     ]
    },
    {
     "data": {
      "application/javascript": [
       "\n",
       "            setTimeout(function() {\n",
       "                var nbb_cell_id = 46;\n",
       "                var nbb_unformatted_code = \"model_111 = ARIMA(df.UNRATE, order=(1,1,1))\\nmodel_111_fit = model_111.fit()\\nprint(model_111_fit.summary())\\nprint('Residuals Description')\\nprint(model_111_fit.resid.describe())\";\n",
       "                var nbb_formatted_code = \"model_111 = ARIMA(df.UNRATE, order=(1, 1, 1))\\nmodel_111_fit = model_111.fit()\\nprint(model_111_fit.summary())\\nprint(\\\"Residuals Description\\\")\\nprint(model_111_fit.resid.describe())\";\n",
       "                var nbb_cells = Jupyter.notebook.get_cells();\n",
       "                for (var i = 0; i < nbb_cells.length; ++i) {\n",
       "                    if (nbb_cells[i].input_prompt_number == nbb_cell_id) {\n",
       "                        if (nbb_cells[i].get_text() == nbb_unformatted_code) {\n",
       "                             nbb_cells[i].set_text(nbb_formatted_code);\n",
       "                        }\n",
       "                        break;\n",
       "                    }\n",
       "                }\n",
       "            }, 500);\n",
       "            "
      ],
      "text/plain": [
       "<IPython.core.display.Javascript object>"
      ]
     },
     "metadata": {},
     "output_type": "display_data"
    }
   ],
   "source": [
    "model_111 = ARIMA(df.UNRATE, order=(1, 1, 1))\n",
    "model_111_fit = model_111.fit()\n",
    "print(model_111_fit.summary())\n",
    "print(\"Residuals Description\")\n",
    "print(model_111_fit.resid.describe())"
   ]
  },
  {
   "cell_type": "code",
   "execution_count": 47,
   "metadata": {},
   "outputs": [
    {
     "name": "stdout",
     "output_type": "stream",
     "text": [
      "                             ARIMA Model Results                              \n",
      "==============================================================================\n",
      "Dep. Variable:               D.UNRATE   No. Observations:                  120\n",
      "Model:                 ARIMA(5, 1, 5)   Log Likelihood                -167.385\n",
      "Method:                       css-mle   S.D. of innovations              0.958\n",
      "Date:                Mon, 15 Feb 2021   AIC                            358.769\n",
      "Time:                        20:49:07   BIC                            392.219\n",
      "Sample:                             1   HQIC                           372.353\n",
      "                                                                              \n",
      "==================================================================================\n",
      "                     coef    std err          z      P>|z|      [0.025      0.975]\n",
      "----------------------------------------------------------------------------------\n",
      "const              0.0063      0.057      0.111      0.912      -0.105       0.118\n",
      "ar.L1.D.UNRATE    -0.7273      0.426     -1.706      0.088      -1.563       0.108\n",
      "ar.L2.D.UNRATE     1.5140      0.150     10.091      0.000       1.220       1.808\n",
      "ar.L3.D.UNRATE     1.0960      0.695      1.577      0.115      -0.266       2.458\n",
      "ar.L4.D.UNRATE    -0.7670      0.117     -6.580      0.000      -0.995      -0.539\n",
      "ar.L5.D.UNRATE    -0.5115      0.394     -1.297      0.195      -1.284       0.261\n",
      "ma.L1.D.UNRATE     0.6608      0.393      1.681      0.093      -0.110       1.431\n",
      "ma.L2.D.UNRATE    -1.7985      0.015   -120.765      0.000      -1.828      -1.769\n",
      "ma.L3.D.UNRATE    -1.2739      0.701     -1.818      0.069      -2.648       0.100\n",
      "ma.L4.D.UNRATE     0.9742        nan        nan        nan         nan         nan\n",
      "ma.L5.D.UNRATE     0.6977      0.395      1.765      0.078      -0.077       1.473\n",
      "                                    Roots                                    \n",
      "=============================================================================\n",
      "                  Real          Imaginary           Modulus         Frequency\n",
      "-----------------------------------------------------------------------------\n",
      "AR.1            1.0473           -0.2675j            1.0809           -0.0398\n",
      "AR.2            1.0473           +0.2675j            1.0809            0.0398\n",
      "AR.3           -0.9645           -0.2733j            1.0025           -0.4560\n",
      "AR.4           -0.9645           +0.2733j            1.0025            0.4560\n",
      "AR.5           -1.6649           -0.0000j            1.6649           -0.5000\n",
      "MA.1            0.9805           -0.1967j            1.0000           -0.0315\n",
      "MA.2            0.9805           +0.1967j            1.0000            0.0315\n",
      "MA.3           -0.9620           -0.2731j            1.0000           -0.4560\n",
      "MA.4           -0.9620           +0.2731j            1.0000            0.4560\n",
      "MA.5           -1.4332           -0.0000j            1.4332           -0.5000\n",
      "-----------------------------------------------------------------------------\n",
      "Residuals Description\n",
      "count    120.000000\n",
      "mean      -0.001844\n",
      "std        0.971315\n",
      "min       -0.847720\n",
      "25%       -0.193317\n",
      "50%       -0.084192\n",
      "75%        0.022643\n",
      "max       10.356872\n",
      "dtype: float64\n"
     ]
    },
    {
     "name": "stderr",
     "output_type": "stream",
     "text": [
      "/opt/anaconda3/lib/python3.8/site-packages/statsmodels/base/model.py:547: HessianInversionWarning: Inverting hessian failed, no bse or cov_params available\n",
      "  warn('Inverting hessian failed, no bse or cov_params '\n",
      "/opt/anaconda3/lib/python3.8/site-packages/statsmodels/base/model.py:567: ConvergenceWarning: Maximum Likelihood optimization failed to converge. Check mle_retvals\n",
      "  warn(\"Maximum Likelihood optimization failed to converge. \"\n",
      "/opt/anaconda3/lib/python3.8/site-packages/statsmodels/tsa/arima_model.py:1490: RuntimeWarning: invalid value encountered in sqrt\n",
      "  return np.sqrt(np.diag(-inv(hess)))\n",
      "/opt/anaconda3/lib/python3.8/site-packages/scipy/stats/_distn_infrastructure.py:1932: RuntimeWarning: invalid value encountered in less_equal\n",
      "  cond2 = cond0 & (x <= _a)\n"
     ]
    },
    {
     "data": {
      "application/javascript": [
       "\n",
       "            setTimeout(function() {\n",
       "                var nbb_cell_id = 47;\n",
       "                var nbb_unformatted_code = \"model = ARIMA(df.UNRATE, order=(5,1,5))\\nmodel_fit = model.fit()\\nprint(model_fit.summary())\\nprint('Residuals Description')\\nprint(model_fit.resid.describe())\";\n",
       "                var nbb_formatted_code = \"model = ARIMA(df.UNRATE, order=(5, 1, 5))\\nmodel_fit = model.fit()\\nprint(model_fit.summary())\\nprint(\\\"Residuals Description\\\")\\nprint(model_fit.resid.describe())\";\n",
       "                var nbb_cells = Jupyter.notebook.get_cells();\n",
       "                for (var i = 0; i < nbb_cells.length; ++i) {\n",
       "                    if (nbb_cells[i].input_prompt_number == nbb_cell_id) {\n",
       "                        if (nbb_cells[i].get_text() == nbb_unformatted_code) {\n",
       "                             nbb_cells[i].set_text(nbb_formatted_code);\n",
       "                        }\n",
       "                        break;\n",
       "                    }\n",
       "                }\n",
       "            }, 500);\n",
       "            "
      ],
      "text/plain": [
       "<IPython.core.display.Javascript object>"
      ]
     },
     "metadata": {},
     "output_type": "display_data"
    }
   ],
   "source": [
    "model = ARIMA(df.UNRATE, order=(5, 1, 5))\n",
    "model_fit = model.fit()\n",
    "print(model_fit.summary())\n",
    "print(\"Residuals Description\")\n",
    "print(model_fit.resid.describe())"
   ]
  },
  {
   "cell_type": "markdown",
   "metadata": {},
   "source": [
    "Finally, choose one specification and make a case for it as a logical model for your dataset.\n",
    "This should come in the form of a Notebook with descriptions that explain your process. Remember to use text, visuals, and analysis to tell a clear and concise story with your data."
   ]
  },
  {
   "cell_type": "code",
   "execution_count": 48,
   "metadata": {},
   "outputs": [
    {
     "data": {
      "text/plain": [
       "Text(0.5, 1.0, 'Histogram of Residuals')"
      ]
     },
     "execution_count": 48,
     "metadata": {},
     "output_type": "execute_result"
    },
    {
     "data": {
      "image/png": "[encoded data removed]",
      "text/plain": [
       "<Figure size 432x288 with 1 Axes>"
      ]
     },
     "metadata": {
      "needs_background": "light"
     },
     "output_type": "display_data"
    },
    {
     "data": {
      "image/png": "[encoded data removed]",
      "text/plain": [
       "<Figure size 432x288 with 1 Axes>"
      ]
     },
     "metadata": {
      "needs_background": "light"
     },
     "output_type": "display_data"
    },
    {
     "data": {
      "application/javascript": [
       "\n",
       "            setTimeout(function() {\n",
       "                var nbb_cell_id = 48;\n",
       "                var nbb_unformatted_code = \"residuals = pd.DataFrame(model_111_fit.resid)\\n\\nresiduals.plot(legend=False)\\nplt.title('Time Series of Residuals')\\n\\nresiduals.hist(bins=20)\\nplt.title('Histogram of Residuals')\";\n",
       "                var nbb_formatted_code = \"residuals = pd.DataFrame(model_111_fit.resid)\\n\\nresiduals.plot(legend=False)\\nplt.title(\\\"Time Series of Residuals\\\")\\n\\nresiduals.hist(bins=20)\\nplt.title(\\\"Histogram of Residuals\\\")\";\n",
       "                var nbb_cells = Jupyter.notebook.get_cells();\n",
       "                for (var i = 0; i < nbb_cells.length; ++i) {\n",
       "                    if (nbb_cells[i].input_prompt_number == nbb_cell_id) {\n",
       "                        if (nbb_cells[i].get_text() == nbb_unformatted_code) {\n",
       "                             nbb_cells[i].set_text(nbb_formatted_code);\n",
       "                        }\n",
       "                        break;\n",
       "                    }\n",
       "                }\n",
       "            }, 500);\n",
       "            "
      ],
      "text/plain": [
       "<IPython.core.display.Javascript object>"
      ]
     },
     "metadata": {},
     "output_type": "display_data"
    }
   ],
   "source": [
    "residuals = pd.DataFrame(model_111_fit.resid)\n",
    "\n",
    "residuals.plot(legend=False)\n",
    "plt.title(\"Time Series of Residuals\")\n",
    "\n",
    "residuals.hist(bins=20)\n",
    "plt.title(\"Histogram of Residuals\")"
   ]
  },
  {
   "cell_type": "code",
   "execution_count": null,
   "metadata": {},
   "outputs": [],
   "source": []
  }
 ],
 "metadata": {
  "kernelspec": {
   "display_name": "Python 3",
   "language": "python",
   "name": "python3"
  },
  "language_info": {
   "codemirror_mode": {
    "name": "ipython",
    "version": 3
   },
   "file_extension": ".py",
   "mimetype": "text/x-python",
   "name": "python",
   "nbconvert_exporter": "python",
   "pygments_lexer": "ipython3",
   "version": "3.8.3"
  },
  "toc": {
   "base_numbering": 1,
   "nav_menu": {},
   "number_sections": true,
   "sideBar": true,
   "skip_h1_title": false,
   "title_cell": "Table of Contents",
   "title_sidebar": "Contents",
   "toc_cell": false,
   "toc_position": {},
   "toc_section_display": true,
   "toc_window_display": false
  }
 },
 "nbformat": 4,
 "nbformat_minor": 4
}
